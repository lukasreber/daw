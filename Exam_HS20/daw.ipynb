{
 "metadata": {
  "language_info": {
   "codemirror_mode": {
    "name": "ipython",
    "version": 3
   },
   "file_extension": ".py",
   "mimetype": "text/x-python",
   "name": "python",
   "nbconvert_exporter": "python",
   "pygments_lexer": "ipython3",
   "version": "3.8.3"
  },
  "orig_nbformat": 2,
  "kernelspec": {
   "name": "python383jvsc74a57bd0aee8b7b246df8f9039afb4144a1f6fd8d2ca17a180786b69acc140d282b71a49",
   "display_name": "Python 3.8.3 64-bit"
  }
 },
 "nbformat": 4,
 "nbformat_minor": 2,
 "cells": [
  {
   "cell_type": "code",
   "execution_count": 1,
   "metadata": {},
   "outputs": [],
   "source": [
    "import pandas as pd\n",
    "from pandas import json_normalize"
   ]
  },
  {
   "cell_type": "code",
   "execution_count": 6,
   "metadata": {},
   "outputs": [],
   "source": [
    "json = pd.read_json('gapminder.json')\n",
    "json.reset_index(inplace=True)\n",
    "json = json.rename(columns = {'index':'Country'})"
   ]
  },
  {
   "cell_type": "code",
   "execution_count": 7,
   "metadata": {},
   "outputs": [
    {
     "output_type": "execute_result",
     "data": {
      "text/plain": [
       "     continent      country  year     gdpPercap  lifeExp         pop\n",
       "0       Africa      Algeria  1952   2449.008185   43.077   9279525.0\n",
       "1       Africa      Algeria  1957   3013.976023   45.685  10270856.0\n",
       "2       Africa      Algeria  1962   2550.816880   48.303  11000948.0\n",
       "3       Africa      Algeria  1967   3246.991771   51.407  12760499.0\n",
       "4       Africa      Algeria  1972   4182.663766   54.518  14760787.0\n",
       "...        ...          ...   ...           ...      ...         ...\n",
       "1699   Oceania  New Zealand  1987  19007.191290   74.320   3317166.0\n",
       "1700   Oceania  New Zealand  1992  18363.324940   76.330   3437674.0\n",
       "1701   Oceania  New Zealand  1997  21050.413770   77.550   3676187.0\n",
       "1702   Oceania  New Zealand  2002  23189.801350   79.110   3908037.0\n",
       "1703   Oceania  New Zealand  2007  25185.009110   80.204   4115771.0\n",
       "\n",
       "[1704 rows x 6 columns]"
      ],
      "text/html": "<div>\n<style scoped>\n    .dataframe tbody tr th:only-of-type {\n        vertical-align: middle;\n    }\n\n    .dataframe tbody tr th {\n        vertical-align: top;\n    }\n\n    .dataframe thead th {\n        text-align: right;\n    }\n</style>\n<table border=\"1\" class=\"dataframe\">\n  <thead>\n    <tr style=\"text-align: right;\">\n      <th></th>\n      <th>continent</th>\n      <th>country</th>\n      <th>year</th>\n      <th>gdpPercap</th>\n      <th>lifeExp</th>\n      <th>pop</th>\n    </tr>\n  </thead>\n  <tbody>\n    <tr>\n      <th>0</th>\n      <td>Africa</td>\n      <td>Algeria</td>\n      <td>1952</td>\n      <td>2449.008185</td>\n      <td>43.077</td>\n      <td>9279525.0</td>\n    </tr>\n    <tr>\n      <th>1</th>\n      <td>Africa</td>\n      <td>Algeria</td>\n      <td>1957</td>\n      <td>3013.976023</td>\n      <td>45.685</td>\n      <td>10270856.0</td>\n    </tr>\n    <tr>\n      <th>2</th>\n      <td>Africa</td>\n      <td>Algeria</td>\n      <td>1962</td>\n      <td>2550.816880</td>\n      <td>48.303</td>\n      <td>11000948.0</td>\n    </tr>\n    <tr>\n      <th>3</th>\n      <td>Africa</td>\n      <td>Algeria</td>\n      <td>1967</td>\n      <td>3246.991771</td>\n      <td>51.407</td>\n      <td>12760499.0</td>\n    </tr>\n    <tr>\n      <th>4</th>\n      <td>Africa</td>\n      <td>Algeria</td>\n      <td>1972</td>\n      <td>4182.663766</td>\n      <td>54.518</td>\n      <td>14760787.0</td>\n    </tr>\n    <tr>\n      <th>...</th>\n      <td>...</td>\n      <td>...</td>\n      <td>...</td>\n      <td>...</td>\n      <td>...</td>\n      <td>...</td>\n    </tr>\n    <tr>\n      <th>1699</th>\n      <td>Oceania</td>\n      <td>New Zealand</td>\n      <td>1987</td>\n      <td>19007.191290</td>\n      <td>74.320</td>\n      <td>3317166.0</td>\n    </tr>\n    <tr>\n      <th>1700</th>\n      <td>Oceania</td>\n      <td>New Zealand</td>\n      <td>1992</td>\n      <td>18363.324940</td>\n      <td>76.330</td>\n      <td>3437674.0</td>\n    </tr>\n    <tr>\n      <th>1701</th>\n      <td>Oceania</td>\n      <td>New Zealand</td>\n      <td>1997</td>\n      <td>21050.413770</td>\n      <td>77.550</td>\n      <td>3676187.0</td>\n    </tr>\n    <tr>\n      <th>1702</th>\n      <td>Oceania</td>\n      <td>New Zealand</td>\n      <td>2002</td>\n      <td>23189.801350</td>\n      <td>79.110</td>\n      <td>3908037.0</td>\n    </tr>\n    <tr>\n      <th>1703</th>\n      <td>Oceania</td>\n      <td>New Zealand</td>\n      <td>2007</td>\n      <td>25185.009110</td>\n      <td>80.204</td>\n      <td>4115771.0</td>\n    </tr>\n  </tbody>\n</table>\n<p>1704 rows × 6 columns</p>\n</div>"
     },
     "metadata": {},
     "execution_count": 7
    }
   ],
   "source": [
    "json = json.melt(id_vars='Country')\n",
    "json = json.dropna()\n",
    "\n",
    "df = pd.DataFrame(columns=['continent','country','year','gdpPercap','lifeExp','pop'])\n",
    "new_row = {}\n",
    "\n",
    "for i,row in json.iterrows():\n",
    "    new_row['continent'] = row.variable\n",
    "    new_row['country'] = row.Country\n",
    "    t = json_normalize(row.value).melt()\n",
    "    t[['val','year']] = t.variable.str.split(\"_\", expand=True)\n",
    "    pt = pd.pivot_table(t, index='year',columns='val',values='value')\n",
    "    for j,n in pt.iterrows():\n",
    "        new_row['year'] = j\n",
    "        new_row['gdpPercap'] = n.gdpPercap\n",
    "        new_row['lifeExp'] = n.lifeExp\n",
    "        new_row['pop'] = n['pop']\n",
    "        df = df.append(new_row, ignore_index=True)\n",
    "\n",
    "df"
   ]
  },
  {
   "source": [
    "## Alternativen"
   ],
   "cell_type": "markdown",
   "metadata": {}
  },
  {
   "cell_type": "code",
   "execution_count": 3,
   "metadata": {},
   "outputs": [],
   "source": [
    "#json.value.apply(pd.Series)\n",
    "json2 = pd.read_json('gapminder.json', typ='series')"
   ]
  },
  {
   "cell_type": "code",
   "execution_count": 4,
   "metadata": {},
   "outputs": [
    {
     "output_type": "execute_result",
     "data": {
      "text/plain": [
       "Africa      {'Algeria': {'gdpPercap_1952': 2449.008185, 'g...\n",
       "Americas    {'Argentina': {'gdpPercap_1952': 5911.315053, ...\n",
       "Asia        {'Afghanistan': {'gdpPercap_1952': 779.4453145...\n",
       "Europe      {'Albania': {'gdpPercap_1952': 1601.056136, 'g...\n",
       "Oceania     {'Australia': {'gdpPercap_1952': 10039.59564, ...\n",
       "dtype: object"
      ]
     },
     "metadata": {},
     "execution_count": 4
    }
   ],
   "source": [
    "json2\n"
   ]
  }
 ]
}