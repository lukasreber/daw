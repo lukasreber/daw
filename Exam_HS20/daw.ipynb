{
 "metadata": {
  "language_info": {
   "codemirror_mode": {
    "name": "ipython",
    "version": 3
   },
   "file_extension": ".py",
   "mimetype": "text/x-python",
   "name": "python",
   "nbconvert_exporter": "python",
   "pygments_lexer": "ipython3",
   "version": "3.8.3"
  },
  "orig_nbformat": 2,
  "kernelspec": {
   "name": "python383jvsc74a57bd0aee8b7b246df8f9039afb4144a1f6fd8d2ca17a180786b69acc140d282b71a49",
   "display_name": "Python 3.8.3 64-bit"
  }
 },
 "nbformat": 4,
 "nbformat_minor": 2,
 "cells": [
  {
   "cell_type": "code",
   "execution_count": 1,
   "metadata": {},
   "outputs": [],
   "source": [
    "import pandas as pd\n",
    "from pandas import json_normalize"
   ]
  },
  {
   "cell_type": "code",
   "execution_count": 7,
   "metadata": {},
   "outputs": [],
   "source": [
    "json = pd.read_json('gapminder.json')\n",
    "json.reset_index(inplace=True)\n",
    "json = json.rename(columns = {'index':'Country'})"
   ]
  },
  {
   "cell_type": "code",
   "execution_count": 9,
   "metadata": {},
   "outputs": [
    {
     "output_type": "execute_result",
     "data": {
      "text/plain": [
       "            Country                                             Africa  \\\n",
       "0           Algeria  {'gdpPercap_1952': 2449.008185, 'gdpPercap_195...   \n",
       "1            Angola  {'gdpPercap_1952': 3520.610273, 'gdpPercap_195...   \n",
       "2             Benin  {'gdpPercap_1952': 1062.7522, 'gdpPercap_1957'...   \n",
       "3          Botswana  {'gdpPercap_1952': 851.2411407, 'gdpPercap_195...   \n",
       "4      Burkina Faso  {'gdpPercap_1952': 543.2552413, 'gdpPercap_195...   \n",
       "..              ...                                                ...   \n",
       "137     Switzerland                                                NaN   \n",
       "138          Turkey                                                NaN   \n",
       "139  United Kingdom                                                NaN   \n",
       "140       Australia                                                NaN   \n",
       "141     New Zealand                                                NaN   \n",
       "\n",
       "    Americas Asia                                             Europe  \\\n",
       "0        NaN  NaN                                                NaN   \n",
       "1        NaN  NaN                                                NaN   \n",
       "2        NaN  NaN                                                NaN   \n",
       "3        NaN  NaN                                                NaN   \n",
       "4        NaN  NaN                                                NaN   \n",
       "..       ...  ...                                                ...   \n",
       "137      NaN  NaN  {'gdpPercap_1952': 14734.23275, 'gdpPercap_195...   \n",
       "138      NaN  NaN  {'gdpPercap_1952': 1969.10098, 'gdpPercap_1957...   \n",
       "139      NaN  NaN  {'gdpPercap_1952': 9979.508487, 'gdpPercap_195...   \n",
       "140      NaN  NaN                                                NaN   \n",
       "141      NaN  NaN                                                NaN   \n",
       "\n",
       "                                               Oceania  \n",
       "0                                                  NaN  \n",
       "1                                                  NaN  \n",
       "2                                                  NaN  \n",
       "3                                                  NaN  \n",
       "4                                                  NaN  \n",
       "..                                                 ...  \n",
       "137                                                NaN  \n",
       "138                                                NaN  \n",
       "139                                                NaN  \n",
       "140  {'gdpPercap_1952': 10039.59564, 'gdpPercap_195...  \n",
       "141  {'gdpPercap_1952': 10556.57566, 'gdpPercap_195...  \n",
       "\n",
       "[142 rows x 6 columns]"
      ],
      "text/html": "<div>\n<style scoped>\n    .dataframe tbody tr th:only-of-type {\n        vertical-align: middle;\n    }\n\n    .dataframe tbody tr th {\n        vertical-align: top;\n    }\n\n    .dataframe thead th {\n        text-align: right;\n    }\n</style>\n<table border=\"1\" class=\"dataframe\">\n  <thead>\n    <tr style=\"text-align: right;\">\n      <th></th>\n      <th>Country</th>\n      <th>Africa</th>\n      <th>Americas</th>\n      <th>Asia</th>\n      <th>Europe</th>\n      <th>Oceania</th>\n    </tr>\n  </thead>\n  <tbody>\n    <tr>\n      <th>0</th>\n      <td>Algeria</td>\n      <td>{'gdpPercap_1952': 2449.008185, 'gdpPercap_195...</td>\n      <td>NaN</td>\n      <td>NaN</td>\n      <td>NaN</td>\n      <td>NaN</td>\n    </tr>\n    <tr>\n      <th>1</th>\n      <td>Angola</td>\n      <td>{'gdpPercap_1952': 3520.610273, 'gdpPercap_195...</td>\n      <td>NaN</td>\n      <td>NaN</td>\n      <td>NaN</td>\n      <td>NaN</td>\n    </tr>\n    <tr>\n      <th>2</th>\n      <td>Benin</td>\n      <td>{'gdpPercap_1952': 1062.7522, 'gdpPercap_1957'...</td>\n      <td>NaN</td>\n      <td>NaN</td>\n      <td>NaN</td>\n      <td>NaN</td>\n    </tr>\n    <tr>\n      <th>3</th>\n      <td>Botswana</td>\n      <td>{'gdpPercap_1952': 851.2411407, 'gdpPercap_195...</td>\n      <td>NaN</td>\n      <td>NaN</td>\n      <td>NaN</td>\n      <td>NaN</td>\n    </tr>\n    <tr>\n      <th>4</th>\n      <td>Burkina Faso</td>\n      <td>{'gdpPercap_1952': 543.2552413, 'gdpPercap_195...</td>\n      <td>NaN</td>\n      <td>NaN</td>\n      <td>NaN</td>\n      <td>NaN</td>\n    </tr>\n    <tr>\n      <th>...</th>\n      <td>...</td>\n      <td>...</td>\n      <td>...</td>\n      <td>...</td>\n      <td>...</td>\n      <td>...</td>\n    </tr>\n    <tr>\n      <th>137</th>\n      <td>Switzerland</td>\n      <td>NaN</td>\n      <td>NaN</td>\n      <td>NaN</td>\n      <td>{'gdpPercap_1952': 14734.23275, 'gdpPercap_195...</td>\n      <td>NaN</td>\n    </tr>\n    <tr>\n      <th>138</th>\n      <td>Turkey</td>\n      <td>NaN</td>\n      <td>NaN</td>\n      <td>NaN</td>\n      <td>{'gdpPercap_1952': 1969.10098, 'gdpPercap_1957...</td>\n      <td>NaN</td>\n    </tr>\n    <tr>\n      <th>139</th>\n      <td>United Kingdom</td>\n      <td>NaN</td>\n      <td>NaN</td>\n      <td>NaN</td>\n      <td>{'gdpPercap_1952': 9979.508487, 'gdpPercap_195...</td>\n      <td>NaN</td>\n    </tr>\n    <tr>\n      <th>140</th>\n      <td>Australia</td>\n      <td>NaN</td>\n      <td>NaN</td>\n      <td>NaN</td>\n      <td>NaN</td>\n      <td>{'gdpPercap_1952': 10039.59564, 'gdpPercap_195...</td>\n    </tr>\n    <tr>\n      <th>141</th>\n      <td>New Zealand</td>\n      <td>NaN</td>\n      <td>NaN</td>\n      <td>NaN</td>\n      <td>NaN</td>\n      <td>{'gdpPercap_1952': 10556.57566, 'gdpPercap_195...</td>\n    </tr>\n  </tbody>\n</table>\n<p>142 rows × 6 columns</p>\n</div>"
     },
     "metadata": {},
     "execution_count": 9
    }
   ],
   "source": [
    "json = json.melt(id_vars='Country')\n",
    "json = json.dropna()\n",
    "\n",
    "df = pd.DataFrame(columns=['continent','country','year','gdpPercap','lifeExp','pop'])\n",
    "new_row = {}\n",
    "\n",
    "for i,row in json.iterrows():\n",
    "    new_row['continent'] = row.variable\n",
    "    new_row['country'] = row.Country\n",
    "    t = json_normalize(row.value).melt()\n",
    "    t[['val','year']] = t.variable.str.split(\"_\", expand=True)\n",
    "    pt = pd.pivot_table(t, index='year',columns='val',values='value')\n",
    "    for j,n in pt.iterrows():\n",
    "        new_row['year'] = j\n",
    "        new_row['gdpPercap'] = n.gdpPercap\n",
    "        new_row['lifeExp'] = n.lifeExp\n",
    "        new_row['pop'] = n['pop']\n",
    "        df = df.append(new_row, ignore_index=True)\n"
   ]
  },
  {
   "source": [
    "## Alternativen"
   ],
   "cell_type": "markdown",
   "metadata": {}
  },
  {
   "cell_type": "code",
   "execution_count": 3,
   "metadata": {},
   "outputs": [],
   "source": [
    "#json.value.apply(pd.Series)\n",
    "json2 = pd.read_json('gapminder.json', typ='series')"
   ]
  },
  {
   "cell_type": "code",
   "execution_count": 4,
   "metadata": {},
   "outputs": [
    {
     "output_type": "execute_result",
     "data": {
      "text/plain": [
       "Africa      {'Algeria': {'gdpPercap_1952': 2449.008185, 'g...\n",
       "Americas    {'Argentina': {'gdpPercap_1952': 5911.315053, ...\n",
       "Asia        {'Afghanistan': {'gdpPercap_1952': 779.4453145...\n",
       "Europe      {'Albania': {'gdpPercap_1952': 1601.056136, 'g...\n",
       "Oceania     {'Australia': {'gdpPercap_1952': 10039.59564, ...\n",
       "dtype: object"
      ]
     },
     "metadata": {},
     "execution_count": 4
    }
   ],
   "source": [
    "json2\n"
   ]
  }
 ]
}