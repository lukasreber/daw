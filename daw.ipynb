{
 "metadata": {
  "language_info": {
   "codemirror_mode": {
    "name": "ipython",
    "version": 3
   },
   "file_extension": ".py",
   "mimetype": "text/x-python",
   "name": "python",
   "nbconvert_exporter": "python",
   "pygments_lexer": "ipython3",
   "version": "3.8.3"
  },
  "orig_nbformat": 4,
  "kernelspec": {
   "name": "python3",
   "display_name": "Python 3.8.3 64-bit"
  },
  "interpreter": {
   "hash": "aee8b7b246df8f9039afb4144a1f6fd8d2ca17a180786b69acc140d282b71a49"
  }
 },
 "nbformat": 4,
 "nbformat_minor": 2,
 "cells": [
  {
   "cell_type": "code",
   "execution_count": 19,
   "metadata": {},
   "outputs": [],
   "source": [
    "import pandas as pd\n",
    "from pandas import json_normalize"
   ]
  },
  {
   "cell_type": "code",
   "execution_count": 162,
   "metadata": {},
   "outputs": [],
   "source": [
    "df = pd.read_json('../Exam_HS20/gapminder.json')"
   ]
  },
  {
   "cell_type": "code",
   "execution_count": 163,
   "metadata": {},
   "outputs": [
    {
     "output_type": "execute_result",
     "data": {
      "text/plain": [
       "          index                                             Africa Americas  \\\n",
       "0       Algeria  {'gdpPercap_1952': 2449.008185, 'gdpPercap_195...      NaN   \n",
       "1        Angola  {'gdpPercap_1952': 3520.610273, 'gdpPercap_195...      NaN   \n",
       "2         Benin  {'gdpPercap_1952': 1062.7522, 'gdpPercap_1957'...      NaN   \n",
       "3      Botswana  {'gdpPercap_1952': 851.2411407, 'gdpPercap_195...      NaN   \n",
       "4  Burkina Faso  {'gdpPercap_1952': 543.2552413, 'gdpPercap_195...      NaN   \n",
       "\n",
       "  Asia Europe Oceania  \n",
       "0  NaN    NaN     NaN  \n",
       "1  NaN    NaN     NaN  \n",
       "2  NaN    NaN     NaN  \n",
       "3  NaN    NaN     NaN  \n",
       "4  NaN    NaN     NaN  "
      ],
      "text/html": "<div>\n<style scoped>\n    .dataframe tbody tr th:only-of-type {\n        vertical-align: middle;\n    }\n\n    .dataframe tbody tr th {\n        vertical-align: top;\n    }\n\n    .dataframe thead th {\n        text-align: right;\n    }\n</style>\n<table border=\"1\" class=\"dataframe\">\n  <thead>\n    <tr style=\"text-align: right;\">\n      <th></th>\n      <th>index</th>\n      <th>Africa</th>\n      <th>Americas</th>\n      <th>Asia</th>\n      <th>Europe</th>\n      <th>Oceania</th>\n    </tr>\n  </thead>\n  <tbody>\n    <tr>\n      <th>0</th>\n      <td>Algeria</td>\n      <td>{'gdpPercap_1952': 2449.008185, 'gdpPercap_195...</td>\n      <td>NaN</td>\n      <td>NaN</td>\n      <td>NaN</td>\n      <td>NaN</td>\n    </tr>\n    <tr>\n      <th>1</th>\n      <td>Angola</td>\n      <td>{'gdpPercap_1952': 3520.610273, 'gdpPercap_195...</td>\n      <td>NaN</td>\n      <td>NaN</td>\n      <td>NaN</td>\n      <td>NaN</td>\n    </tr>\n    <tr>\n      <th>2</th>\n      <td>Benin</td>\n      <td>{'gdpPercap_1952': 1062.7522, 'gdpPercap_1957'...</td>\n      <td>NaN</td>\n      <td>NaN</td>\n      <td>NaN</td>\n      <td>NaN</td>\n    </tr>\n    <tr>\n      <th>3</th>\n      <td>Botswana</td>\n      <td>{'gdpPercap_1952': 851.2411407, 'gdpPercap_195...</td>\n      <td>NaN</td>\n      <td>NaN</td>\n      <td>NaN</td>\n      <td>NaN</td>\n    </tr>\n    <tr>\n      <th>4</th>\n      <td>Burkina Faso</td>\n      <td>{'gdpPercap_1952': 543.2552413, 'gdpPercap_195...</td>\n      <td>NaN</td>\n      <td>NaN</td>\n      <td>NaN</td>\n      <td>NaN</td>\n    </tr>\n  </tbody>\n</table>\n</div>"
     },
     "metadata": {},
     "execution_count": 163
    }
   ],
   "source": [
    "df = df.reset_index()\n",
    "df.head()"
   ]
  },
  {
   "cell_type": "code",
   "execution_count": 164,
   "metadata": {},
   "outputs": [],
   "source": [
    "df = df.melt('index').dropna()"
   ]
  },
  {
   "cell_type": "code",
   "execution_count": 124,
   "metadata": {
    "tags": []
   },
   "outputs": [
    {
     "output_type": "execute_result",
     "data": {
      "text/plain": [
       "    continent         country year gdpPercap lifeExp  pop\n",
       "0      Africa         Algeria  NaN       NaN     NaN  NaN\n",
       "1      Africa          Angola  NaN       NaN     NaN  NaN\n",
       "2      Africa           Benin  NaN       NaN     NaN  NaN\n",
       "3      Africa        Botswana  NaN       NaN     NaN  NaN\n",
       "4      Africa    Burkina Faso  NaN       NaN     NaN  NaN\n",
       "..        ...             ...  ...       ...     ...  ...\n",
       "137    Europe     Switzerland  NaN       NaN     NaN  NaN\n",
       "138    Europe          Turkey  NaN       NaN     NaN  NaN\n",
       "139    Europe  United Kingdom  NaN       NaN     NaN  NaN\n",
       "140   Oceania       Australia  NaN       NaN     NaN  NaN\n",
       "141   Oceania     New Zealand  NaN       NaN     NaN  NaN\n",
       "\n",
       "[142 rows x 6 columns]"
      ],
      "text/html": "<div>\n<style scoped>\n    .dataframe tbody tr th:only-of-type {\n        vertical-align: middle;\n    }\n\n    .dataframe tbody tr th {\n        vertical-align: top;\n    }\n\n    .dataframe thead th {\n        text-align: right;\n    }\n</style>\n<table border=\"1\" class=\"dataframe\">\n  <thead>\n    <tr style=\"text-align: right;\">\n      <th></th>\n      <th>continent</th>\n      <th>country</th>\n      <th>year</th>\n      <th>gdpPercap</th>\n      <th>lifeExp</th>\n      <th>pop</th>\n    </tr>\n  </thead>\n  <tbody>\n    <tr>\n      <th>0</th>\n      <td>Africa</td>\n      <td>Algeria</td>\n      <td>NaN</td>\n      <td>NaN</td>\n      <td>NaN</td>\n      <td>NaN</td>\n    </tr>\n    <tr>\n      <th>1</th>\n      <td>Africa</td>\n      <td>Angola</td>\n      <td>NaN</td>\n      <td>NaN</td>\n      <td>NaN</td>\n      <td>NaN</td>\n    </tr>\n    <tr>\n      <th>2</th>\n      <td>Africa</td>\n      <td>Benin</td>\n      <td>NaN</td>\n      <td>NaN</td>\n      <td>NaN</td>\n      <td>NaN</td>\n    </tr>\n    <tr>\n      <th>3</th>\n      <td>Africa</td>\n      <td>Botswana</td>\n      <td>NaN</td>\n      <td>NaN</td>\n      <td>NaN</td>\n      <td>NaN</td>\n    </tr>\n    <tr>\n      <th>4</th>\n      <td>Africa</td>\n      <td>Burkina Faso</td>\n      <td>NaN</td>\n      <td>NaN</td>\n      <td>NaN</td>\n      <td>NaN</td>\n    </tr>\n    <tr>\n      <th>...</th>\n      <td>...</td>\n      <td>...</td>\n      <td>...</td>\n      <td>...</td>\n      <td>...</td>\n      <td>...</td>\n    </tr>\n    <tr>\n      <th>137</th>\n      <td>Europe</td>\n      <td>Switzerland</td>\n      <td>NaN</td>\n      <td>NaN</td>\n      <td>NaN</td>\n      <td>NaN</td>\n    </tr>\n    <tr>\n      <th>138</th>\n      <td>Europe</td>\n      <td>Turkey</td>\n      <td>NaN</td>\n      <td>NaN</td>\n      <td>NaN</td>\n      <td>NaN</td>\n    </tr>\n    <tr>\n      <th>139</th>\n      <td>Europe</td>\n      <td>United Kingdom</td>\n      <td>NaN</td>\n      <td>NaN</td>\n      <td>NaN</td>\n      <td>NaN</td>\n    </tr>\n    <tr>\n      <th>140</th>\n      <td>Oceania</td>\n      <td>Australia</td>\n      <td>NaN</td>\n      <td>NaN</td>\n      <td>NaN</td>\n      <td>NaN</td>\n    </tr>\n    <tr>\n      <th>141</th>\n      <td>Oceania</td>\n      <td>New Zealand</td>\n      <td>NaN</td>\n      <td>NaN</td>\n      <td>NaN</td>\n      <td>NaN</td>\n    </tr>\n  </tbody>\n</table>\n<p>142 rows × 6 columns</p>\n</div>"
     },
     "metadata": {},
     "execution_count": 124
    }
   ],
   "source": [
    "newdf = pd.DataFrame(columns=['continent','country','year','gdpPercap','lifeExp','pop'])\n",
    "for index,row in df.iterrows():\n",
    "    newrow = {}\n",
    "    newrow['country'] = row['index']\n",
    "    newrow['continent'] = row['variable']\n",
    "    t = json_normalize(df.value[0]).melt()\n",
    "    \n",
    "\n",
    "    newdf = newdf.append(newrow, ignore_index=True)\n",
    "\n",
    "newdf"
   ]
  },
  {
   "cell_type": "code",
   "execution_count": 142,
   "metadata": {},
   "outputs": [],
   "source": [
    "x[['var','year']] = x.variable.str.split('_', expand=True)"
   ]
  },
  {
   "cell_type": "code",
   "execution_count": 144,
   "metadata": {},
   "outputs": [],
   "source": [
    "x = x.drop(columns='variable')"
   ]
  },
  {
   "cell_type": "code",
   "execution_count": 152,
   "metadata": {},
   "outputs": [
    {
     "output_type": "execute_result",
     "data": {
      "text/plain": [
       "var     gdpPercap  lifeExp         pop\n",
       "year                                  \n",
       "1952  2449.008185   43.077   9279525.0\n",
       "1957  3013.976023   45.685  10270856.0\n",
       "1962  2550.816880   48.303  11000948.0\n",
       "1967  3246.991771   51.407  12760499.0\n",
       "1972  4182.663766   54.518  14760787.0\n",
       "1977  4910.416756   58.014  17152804.0\n",
       "1982  5745.160213   61.368  20033753.0\n",
       "1987  5681.358539   65.799  23254956.0\n",
       "1992  5023.216647   67.744  26298373.0\n",
       "1997  4797.295051   69.152  29072015.0\n",
       "2002  5288.040382   70.994  31287142.0\n",
       "2007  6223.367465   72.301  33333216.0"
      ],
      "text/html": "<div>\n<style scoped>\n    .dataframe tbody tr th:only-of-type {\n        vertical-align: middle;\n    }\n\n    .dataframe tbody tr th {\n        vertical-align: top;\n    }\n\n    .dataframe thead th {\n        text-align: right;\n    }\n</style>\n<table border=\"1\" class=\"dataframe\">\n  <thead>\n    <tr style=\"text-align: right;\">\n      <th>var</th>\n      <th>gdpPercap</th>\n      <th>lifeExp</th>\n      <th>pop</th>\n    </tr>\n    <tr>\n      <th>year</th>\n      <th></th>\n      <th></th>\n      <th></th>\n    </tr>\n  </thead>\n  <tbody>\n    <tr>\n      <th>1952</th>\n      <td>2449.008185</td>\n      <td>43.077</td>\n      <td>9279525.0</td>\n    </tr>\n    <tr>\n      <th>1957</th>\n      <td>3013.976023</td>\n      <td>45.685</td>\n      <td>10270856.0</td>\n    </tr>\n    <tr>\n      <th>1962</th>\n      <td>2550.816880</td>\n      <td>48.303</td>\n      <td>11000948.0</td>\n    </tr>\n    <tr>\n      <th>1967</th>\n      <td>3246.991771</td>\n      <td>51.407</td>\n      <td>12760499.0</td>\n    </tr>\n    <tr>\n      <th>1972</th>\n      <td>4182.663766</td>\n      <td>54.518</td>\n      <td>14760787.0</td>\n    </tr>\n    <tr>\n      <th>1977</th>\n      <td>4910.416756</td>\n      <td>58.014</td>\n      <td>17152804.0</td>\n    </tr>\n    <tr>\n      <th>1982</th>\n      <td>5745.160213</td>\n      <td>61.368</td>\n      <td>20033753.0</td>\n    </tr>\n    <tr>\n      <th>1987</th>\n      <td>5681.358539</td>\n      <td>65.799</td>\n      <td>23254956.0</td>\n    </tr>\n    <tr>\n      <th>1992</th>\n      <td>5023.216647</td>\n      <td>67.744</td>\n      <td>26298373.0</td>\n    </tr>\n    <tr>\n      <th>1997</th>\n      <td>4797.295051</td>\n      <td>69.152</td>\n      <td>29072015.0</td>\n    </tr>\n    <tr>\n      <th>2002</th>\n      <td>5288.040382</td>\n      <td>70.994</td>\n      <td>31287142.0</td>\n    </tr>\n    <tr>\n      <th>2007</th>\n      <td>6223.367465</td>\n      <td>72.301</td>\n      <td>33333216.0</td>\n    </tr>\n  </tbody>\n</table>\n</div>"
     },
     "metadata": {},
     "execution_count": 152
    }
   ],
   "source": [
    "pd.pivot_table(x, index='year', columns='var', values='value')"
   ]
  },
  {
   "cell_type": "code",
   "execution_count": 153,
   "metadata": {},
   "outputs": [
    {
     "output_type": "execute_result",
     "data": {
      "text/plain": [
       "           value        var  year\n",
       "0   2.449008e+03  gdpPercap  1952\n",
       "1   3.013976e+03  gdpPercap  1957\n",
       "2   2.550817e+03  gdpPercap  1962\n",
       "3   3.246992e+03  gdpPercap  1967\n",
       "4   4.182664e+03  gdpPercap  1972\n",
       "5   4.910417e+03  gdpPercap  1977\n",
       "6   5.745160e+03  gdpPercap  1982\n",
       "7   5.681359e+03  gdpPercap  1987\n",
       "8   5.023217e+03  gdpPercap  1992\n",
       "9   4.797295e+03  gdpPercap  1997\n",
       "10  5.288040e+03  gdpPercap  2002\n",
       "11  6.223367e+03  gdpPercap  2007\n",
       "12  4.307700e+01    lifeExp  1952\n",
       "13  4.568500e+01    lifeExp  1957\n",
       "14  4.830300e+01    lifeExp  1962\n",
       "15  5.140700e+01    lifeExp  1967\n",
       "16  5.451800e+01    lifeExp  1972\n",
       "17  5.801400e+01    lifeExp  1977\n",
       "18  6.136800e+01    lifeExp  1982\n",
       "19  6.579900e+01    lifeExp  1987\n",
       "20  6.774400e+01    lifeExp  1992\n",
       "21  6.915200e+01    lifeExp  1997\n",
       "22  7.099400e+01    lifeExp  2002\n",
       "23  7.230100e+01    lifeExp  2007\n",
       "24  9.279525e+06        pop  1952\n",
       "25  1.027086e+07        pop  1957\n",
       "26  1.100095e+07        pop  1962\n",
       "27  1.276050e+07        pop  1967\n",
       "28  1.476079e+07        pop  1972\n",
       "29  1.715280e+07        pop  1977\n",
       "30  2.003375e+07        pop  1982\n",
       "31  2.325496e+07        pop  1987\n",
       "32  2.629837e+07        pop  1992\n",
       "33  2.907202e+07        pop  1997\n",
       "34  3.128714e+07        pop  2002\n",
       "35  3.333322e+07        pop  2007"
      ],
      "text/html": "<div>\n<style scoped>\n    .dataframe tbody tr th:only-of-type {\n        vertical-align: middle;\n    }\n\n    .dataframe tbody tr th {\n        vertical-align: top;\n    }\n\n    .dataframe thead th {\n        text-align: right;\n    }\n</style>\n<table border=\"1\" class=\"dataframe\">\n  <thead>\n    <tr style=\"text-align: right;\">\n      <th></th>\n      <th>value</th>\n      <th>var</th>\n      <th>year</th>\n    </tr>\n  </thead>\n  <tbody>\n    <tr>\n      <th>0</th>\n      <td>2.449008e+03</td>\n      <td>gdpPercap</td>\n      <td>1952</td>\n    </tr>\n    <tr>\n      <th>1</th>\n      <td>3.013976e+03</td>\n      <td>gdpPercap</td>\n      <td>1957</td>\n    </tr>\n    <tr>\n      <th>2</th>\n      <td>2.550817e+03</td>\n      <td>gdpPercap</td>\n      <td>1962</td>\n    </tr>\n    <tr>\n      <th>3</th>\n      <td>3.246992e+03</td>\n      <td>gdpPercap</td>\n      <td>1967</td>\n    </tr>\n    <tr>\n      <th>4</th>\n      <td>4.182664e+03</td>\n      <td>gdpPercap</td>\n      <td>1972</td>\n    </tr>\n    <tr>\n      <th>5</th>\n      <td>4.910417e+03</td>\n      <td>gdpPercap</td>\n      <td>1977</td>\n    </tr>\n    <tr>\n      <th>6</th>\n      <td>5.745160e+03</td>\n      <td>gdpPercap</td>\n      <td>1982</td>\n    </tr>\n    <tr>\n      <th>7</th>\n      <td>5.681359e+03</td>\n      <td>gdpPercap</td>\n      <td>1987</td>\n    </tr>\n    <tr>\n      <th>8</th>\n      <td>5.023217e+03</td>\n      <td>gdpPercap</td>\n      <td>1992</td>\n    </tr>\n    <tr>\n      <th>9</th>\n      <td>4.797295e+03</td>\n      <td>gdpPercap</td>\n      <td>1997</td>\n    </tr>\n    <tr>\n      <th>10</th>\n      <td>5.288040e+03</td>\n      <td>gdpPercap</td>\n      <td>2002</td>\n    </tr>\n    <tr>\n      <th>11</th>\n      <td>6.223367e+03</td>\n      <td>gdpPercap</td>\n      <td>2007</td>\n    </tr>\n    <tr>\n      <th>12</th>\n      <td>4.307700e+01</td>\n      <td>lifeExp</td>\n      <td>1952</td>\n    </tr>\n    <tr>\n      <th>13</th>\n      <td>4.568500e+01</td>\n      <td>lifeExp</td>\n      <td>1957</td>\n    </tr>\n    <tr>\n      <th>14</th>\n      <td>4.830300e+01</td>\n      <td>lifeExp</td>\n      <td>1962</td>\n    </tr>\n    <tr>\n      <th>15</th>\n      <td>5.140700e+01</td>\n      <td>lifeExp</td>\n      <td>1967</td>\n    </tr>\n    <tr>\n      <th>16</th>\n      <td>5.451800e+01</td>\n      <td>lifeExp</td>\n      <td>1972</td>\n    </tr>\n    <tr>\n      <th>17</th>\n      <td>5.801400e+01</td>\n      <td>lifeExp</td>\n      <td>1977</td>\n    </tr>\n    <tr>\n      <th>18</th>\n      <td>6.136800e+01</td>\n      <td>lifeExp</td>\n      <td>1982</td>\n    </tr>\n    <tr>\n      <th>19</th>\n      <td>6.579900e+01</td>\n      <td>lifeExp</td>\n      <td>1987</td>\n    </tr>\n    <tr>\n      <th>20</th>\n      <td>6.774400e+01</td>\n      <td>lifeExp</td>\n      <td>1992</td>\n    </tr>\n    <tr>\n      <th>21</th>\n      <td>6.915200e+01</td>\n      <td>lifeExp</td>\n      <td>1997</td>\n    </tr>\n    <tr>\n      <th>22</th>\n      <td>7.099400e+01</td>\n      <td>lifeExp</td>\n      <td>2002</td>\n    </tr>\n    <tr>\n      <th>23</th>\n      <td>7.230100e+01</td>\n      <td>lifeExp</td>\n      <td>2007</td>\n    </tr>\n    <tr>\n      <th>24</th>\n      <td>9.279525e+06</td>\n      <td>pop</td>\n      <td>1952</td>\n    </tr>\n    <tr>\n      <th>25</th>\n      <td>1.027086e+07</td>\n      <td>pop</td>\n      <td>1957</td>\n    </tr>\n    <tr>\n      <th>26</th>\n      <td>1.100095e+07</td>\n      <td>pop</td>\n      <td>1962</td>\n    </tr>\n    <tr>\n      <th>27</th>\n      <td>1.276050e+07</td>\n      <td>pop</td>\n      <td>1967</td>\n    </tr>\n    <tr>\n      <th>28</th>\n      <td>1.476079e+07</td>\n      <td>pop</td>\n      <td>1972</td>\n    </tr>\n    <tr>\n      <th>29</th>\n      <td>1.715280e+07</td>\n      <td>pop</td>\n      <td>1977</td>\n    </tr>\n    <tr>\n      <th>30</th>\n      <td>2.003375e+07</td>\n      <td>pop</td>\n      <td>1982</td>\n    </tr>\n    <tr>\n      <th>31</th>\n      <td>2.325496e+07</td>\n      <td>pop</td>\n      <td>1987</td>\n    </tr>\n    <tr>\n      <th>32</th>\n      <td>2.629837e+07</td>\n      <td>pop</td>\n      <td>1992</td>\n    </tr>\n    <tr>\n      <th>33</th>\n      <td>2.907202e+07</td>\n      <td>pop</td>\n      <td>1997</td>\n    </tr>\n    <tr>\n      <th>34</th>\n      <td>3.128714e+07</td>\n      <td>pop</td>\n      <td>2002</td>\n    </tr>\n    <tr>\n      <th>35</th>\n      <td>3.333322e+07</td>\n      <td>pop</td>\n      <td>2007</td>\n    </tr>\n  </tbody>\n</table>\n</div>"
     },
     "metadata": {},
     "execution_count": 153
    }
   ],
   "source": [
    "x"
   ]
  },
  {
   "cell_type": "code",
   "execution_count": 10,
   "metadata": {},
   "outputs": [
    {
     "output_type": "stream",
     "name": "stdout",
     "text": [
      "Endcoding: UTF-8\n"
     ]
    }
   ],
   "source": [
    "def get_file_encoding(src_file_path):\n",
    "    with open(src_file_path) as src_file:\n",
    "        return src_file.encoding\n",
    "\n",
    "csv_file_path = './Exam_HS20/DAW_Exam_Material/diabetes.xlsx'\n",
    "print('Endcoding: ' + str(get_file_encoding(csv_file_path)))"
   ]
  },
  {
   "cell_type": "code",
   "execution_count": null,
   "metadata": {},
   "outputs": [],
   "source": []
  }
 ]
}