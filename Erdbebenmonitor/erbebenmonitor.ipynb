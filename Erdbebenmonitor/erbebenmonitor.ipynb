{
 "metadata": {
  "language_info": {
   "codemirror_mode": {
    "name": "ipython",
    "version": 3
   },
   "file_extension": ".py",
   "mimetype": "text/x-python",
   "name": "python",
   "nbconvert_exporter": "python",
   "pygments_lexer": "ipython3",
   "version": "3.8.3"
  },
  "orig_nbformat": 2,
  "kernelspec": {
   "name": "python383jvsc74a57bd0aee8b7b246df8f9039afb4144a1f6fd8d2ca17a180786b69acc140d282b71a49",
   "display_name": "Python 3.8.3 64-bit"
  }
 },
 "nbformat": 4,
 "nbformat_minor": 2,
 "cells": [
  {
   "source": [
    "# Mini-Challenge Erdbebenmonitor\n",
    "\n",
    "Text blalba\n",
    "\n"
   ],
   "cell_type": "markdown",
   "metadata": {}
  },
  {
   "source": [
    "Loading packages"
   ],
   "cell_type": "markdown",
   "metadata": {}
  },
  {
   "cell_type": "code",
   "execution_count": 1,
   "metadata": {},
   "outputs": [],
   "source": [
    "import pandas as pd\n",
    "import geopandas as gpd"
   ]
  },
  {
   "source": [
    "Loading Data as a GeoJson Object"
   ],
   "cell_type": "markdown",
   "metadata": {}
  },
  {
   "cell_type": "code",
   "execution_count": 2,
   "metadata": {},
   "outputs": [
    {
     "output_type": "execute_result",
     "data": {
      "text/plain": [
       "              mag          time       updated          tz  felt  cdi  \\\n",
       "count  326.000000  3.260000e+02  3.260000e+02  284.000000   1.0  1.0   \n",
       "mean     1.479693  1.388578e+12  1.488382e+12 -392.852113  32.0  3.1   \n",
       "std      1.367151  2.614801e+07  5.440828e+10  306.939698   NaN  NaN   \n",
       "min     -0.900000  1.388534e+12  1.388584e+12 -720.000000  32.0  3.1   \n",
       "25%      0.530000  1.388554e+12  1.457722e+12 -480.000000  32.0  3.1   \n",
       "50%      1.115000  1.388578e+12  1.486063e+12 -480.000000  32.0  3.1   \n",
       "75%      1.900000  1.388602e+12  1.530313e+12 -480.000000  32.0  3.1   \n",
       "max      6.500000  1.388620e+12  1.598476e+12  660.000000  32.0  3.1   \n",
       "\n",
       "            mmi     tsunami         sig         nst        dmin        rms  \\\n",
       "count  2.000000  326.000000  326.000000  225.000000  257.000000  326.00000   \n",
       "mean   4.385500    0.003067   62.134969   16.448889    0.722739    0.26557   \n",
       "std    0.174655    0.055385  101.200852   13.508539    2.242265    0.35099   \n",
       "min    4.262000    0.000000    0.000000    3.000000    0.000901    0.00020   \n",
       "25%    4.323750    0.000000    4.000000    7.000000    0.012610    0.04000   \n",
       "50%    4.385500    0.000000   19.000000   12.000000    0.056760    0.11000   \n",
       "75%    4.447250    0.000000   56.000000   20.000000    0.168300    0.39750   \n",
       "max    4.509000    1.000000  650.000000   77.000000   17.795000    3.09000   \n",
       "\n",
       "              gap  \n",
       "count  264.000000  \n",
       "mean   125.933258  \n",
       "std     67.449180  \n",
       "min     14.000000  \n",
       "25%     78.250000  \n",
       "50%    114.000000  \n",
       "75%    156.260000  \n",
       "max    316.800000  "
      ],
      "text/html": "<div>\n<style scoped>\n    .dataframe tbody tr th:only-of-type {\n        vertical-align: middle;\n    }\n\n    .dataframe tbody tr th {\n        vertical-align: top;\n    }\n\n    .dataframe thead th {\n        text-align: right;\n    }\n</style>\n<table border=\"1\" class=\"dataframe\">\n  <thead>\n    <tr style=\"text-align: right;\">\n      <th></th>\n      <th>mag</th>\n      <th>time</th>\n      <th>updated</th>\n      <th>tz</th>\n      <th>felt</th>\n      <th>cdi</th>\n      <th>mmi</th>\n      <th>tsunami</th>\n      <th>sig</th>\n      <th>nst</th>\n      <th>dmin</th>\n      <th>rms</th>\n      <th>gap</th>\n    </tr>\n  </thead>\n  <tbody>\n    <tr>\n      <th>count</th>\n      <td>326.000000</td>\n      <td>3.260000e+02</td>\n      <td>3.260000e+02</td>\n      <td>284.000000</td>\n      <td>1.0</td>\n      <td>1.0</td>\n      <td>2.000000</td>\n      <td>326.000000</td>\n      <td>326.000000</td>\n      <td>225.000000</td>\n      <td>257.000000</td>\n      <td>326.00000</td>\n      <td>264.000000</td>\n    </tr>\n    <tr>\n      <th>mean</th>\n      <td>1.479693</td>\n      <td>1.388578e+12</td>\n      <td>1.488382e+12</td>\n      <td>-392.852113</td>\n      <td>32.0</td>\n      <td>3.1</td>\n      <td>4.385500</td>\n      <td>0.003067</td>\n      <td>62.134969</td>\n      <td>16.448889</td>\n      <td>0.722739</td>\n      <td>0.26557</td>\n      <td>125.933258</td>\n    </tr>\n    <tr>\n      <th>std</th>\n      <td>1.367151</td>\n      <td>2.614801e+07</td>\n      <td>5.440828e+10</td>\n      <td>306.939698</td>\n      <td>NaN</td>\n      <td>NaN</td>\n      <td>0.174655</td>\n      <td>0.055385</td>\n      <td>101.200852</td>\n      <td>13.508539</td>\n      <td>2.242265</td>\n      <td>0.35099</td>\n      <td>67.449180</td>\n    </tr>\n    <tr>\n      <th>min</th>\n      <td>-0.900000</td>\n      <td>1.388534e+12</td>\n      <td>1.388584e+12</td>\n      <td>-720.000000</td>\n      <td>32.0</td>\n      <td>3.1</td>\n      <td>4.262000</td>\n      <td>0.000000</td>\n      <td>0.000000</td>\n      <td>3.000000</td>\n      <td>0.000901</td>\n      <td>0.00020</td>\n      <td>14.000000</td>\n    </tr>\n    <tr>\n      <th>25%</th>\n      <td>0.530000</td>\n      <td>1.388554e+12</td>\n      <td>1.457722e+12</td>\n      <td>-480.000000</td>\n      <td>32.0</td>\n      <td>3.1</td>\n      <td>4.323750</td>\n      <td>0.000000</td>\n      <td>4.000000</td>\n      <td>7.000000</td>\n      <td>0.012610</td>\n      <td>0.04000</td>\n      <td>78.250000</td>\n    </tr>\n    <tr>\n      <th>50%</th>\n      <td>1.115000</td>\n      <td>1.388578e+12</td>\n      <td>1.486063e+12</td>\n      <td>-480.000000</td>\n      <td>32.0</td>\n      <td>3.1</td>\n      <td>4.385500</td>\n      <td>0.000000</td>\n      <td>19.000000</td>\n      <td>12.000000</td>\n      <td>0.056760</td>\n      <td>0.11000</td>\n      <td>114.000000</td>\n    </tr>\n    <tr>\n      <th>75%</th>\n      <td>1.900000</td>\n      <td>1.388602e+12</td>\n      <td>1.530313e+12</td>\n      <td>-480.000000</td>\n      <td>32.0</td>\n      <td>3.1</td>\n      <td>4.447250</td>\n      <td>0.000000</td>\n      <td>56.000000</td>\n      <td>20.000000</td>\n      <td>0.168300</td>\n      <td>0.39750</td>\n      <td>156.260000</td>\n    </tr>\n    <tr>\n      <th>max</th>\n      <td>6.500000</td>\n      <td>1.388620e+12</td>\n      <td>1.598476e+12</td>\n      <td>660.000000</td>\n      <td>32.0</td>\n      <td>3.1</td>\n      <td>4.509000</td>\n      <td>1.000000</td>\n      <td>650.000000</td>\n      <td>77.000000</td>\n      <td>17.795000</td>\n      <td>3.09000</td>\n      <td>316.800000</td>\n    </tr>\n  </tbody>\n</table>\n</div>"
     },
     "metadata": {},
     "execution_count": 2
    }
   ],
   "source": [
    "df = gpd.read_file('https://earthquake.usgs.gov/fdsnws/event/1/query?format=geojson&starttime=2014-01-01&endtime=2014-01-02')\n",
    "\n",
    "df.describe()"
   ]
  },
  {
   "cell_type": "code",
   "execution_count": 3,
   "metadata": {},
   "outputs": [
    {
     "output_type": "execute_result",
     "data": {
      "text/plain": [
       "Index(['id', 'mag', 'place', 'time', 'updated', 'tz', 'url', 'detail', 'felt',\n",
       "       'cdi', 'mmi', 'alert', 'status', 'tsunami', 'sig', 'net', 'code', 'ids',\n",
       "       'sources', 'types', 'nst', 'dmin', 'rms', 'gap', 'magType', 'type',\n",
       "       'title', 'geometry'],\n",
       "      dtype='object')"
      ]
     },
     "metadata": {},
     "execution_count": 3
    }
   ],
   "source": [
    "df.columns"
   ]
  },
  {
   "source": [
    "### Attribute description\n",
    "\n",
    "https://earthquake.usgs.gov/data/comcat/data-eventterms.php\n",
    "\n",
    "* mag - The magnitude for the event\n",
    "* place - Textual description of named geographic region near to the event\n",
    "* time - Time when the event occurred. Times are reported in milliseconds since the epoch ( 1970-01-01T00:00:00.000Z), and do not include leap seconds. In certain output formats, the date is formatted for readability. \n",
    "* updated - Time when the event was most recently updated\n",
    "* tz - Timezone offset from UTC in minutes at the event epicenter\n",
    "* url - Link to USGS Event Page for event. \n",
    "* detail - Link to GeoJSON detail feed from a GeoJSON summary feed. \n",
    "* felt - The total number of felt reports submitted to the DYFI? system. \n",
    "* cdi - The maximum reported intensity for the event. Computed by DYFI. While typically reported as a roman numeral, for the purposes of this API, intensity is expected as the decimal equivalent of the roman numeral.\n",
    "* mmi - The maximum estimated instrumental intensity for the event\n",
    "* alert - The alert level from the PAGER earthquake impact scale. \n",
    "* status - Indicates whether the event has been reviewed by a human\n",
    "* tsunami - This flag is set to \"1\" for large events in oceanic regions and \"0\" otherwise\n",
    "* sig - A number describing how significant the event is. Larger numbers indicate a more significant event. This value is determined on a number of factors, including: magnitude, maximum MMI, felt reports, and estimated impact. \n",
    "* net - The ID of a data contributor.\n",
    "* code - An identifying code assigned by - and unique from - the corresponding source for the event. \n",
    "* ids - A comma-separated list of event ids that are associated to an event. \n",
    "* sources - A comma-separated list of network contributors. \n",
    "* types - A comma-separated list of product types associated to this event. \n",
    "* nst - The total number of seismic stations used to determine earthquake location\n",
    "* dmin - Horizontal distance from the epicenter to the nearest station (in degrees). 1 degree is approximately 111.2 kilometers. In general, the smaller this number, the more reliable is the calculated depth of the earthquake. \n",
    "* rms - The root-mean-square (RMS) travel time residual, in sec, using all weights. This parameter provides a measure of the fit of the observed arrival times to the predicted arrival times for this location. Smaller numbers reflect a better fit of the data. The value is dependent on the accuracy of the velocity model used to compute the earthquake location, the quality weights assigned to the arrival time data, and the procedure used to locate the earthquake. \n",
    "* gap - The largest azimuthal gap between azimuthally adjacent stations (in degrees). In general, the smaller this number, the more reliable is the calculated horizontal position of the earthquake. Earthquake locations in which the azimuthal gap exceeds 180 degrees typically have large location and depth uncertainties.\n",
    "* magtype - The method or algorithm used to calculate the preferred magnitude for the event. \n",
    "* type - Type of seismic event. \n",
    "* title - \n",
    "* geometry\n"
   ],
   "cell_type": "markdown",
   "metadata": {}
  },
  {
   "source": [
    "### Aufbau\n",
    "\n",
    "Die Struktur des GeoJson ist hier beschrieben: https://earthquake.usgs.gov/earthquakes/feed/v1.0/geojson.php\n",
    "Durch den Import mittels Geopandas wird die Struktur des Objekts bereits \"flachgedrückt\". Alternativ wäre die Möglichkeit Json_Normalize (from pandas import json_normalize) zu benutzen"
   ],
   "cell_type": "markdown",
   "metadata": {}
  },
  {
   "cell_type": "code",
   "execution_count": 43,
   "metadata": {},
   "outputs": [
    {
     "output_type": "execute_result",
     "data": {
      "text/plain": [
       "11.008"
      ]
     },
     "metadata": {},
     "execution_count": 43
    }
   ],
   "source": [
    "df.iloc[0].geometry.z"
   ]
  },
  {
   "source": [
    "Unnötige Spalten werden entfernt"
   ],
   "cell_type": "markdown",
   "metadata": {}
  },
  {
   "cell_type": "code",
   "execution_count": 6,
   "metadata": {},
   "outputs": [],
   "source": [
    "df = df.drop(['felt','status','net','code','ids','sources','types','nst','rms','gap','magType'], axis=1)"
   ]
  },
  {
   "cell_type": "code",
   "execution_count": 8,
   "metadata": {},
   "outputs": [
    {
     "output_type": "execute_result",
     "data": {
      "text/plain": [
       "id                                                 ci11408890\n",
       "mag                                                      1.29\n",
       "place                               10km SSW of Idyllwild, CA\n",
       "time                                            1388620296020\n",
       "updated                                         1457728844428\n",
       "tz                                                       -480\n",
       "url         https://earthquake.usgs.gov/earthquakes/eventp...\n",
       "detail      https://earthquake.usgs.gov/fdsnws/event/1/que...\n",
       "cdi                                                       NaN\n",
       "mmi                                                       NaN\n",
       "alert                                                    None\n",
       "tsunami                                                     0\n",
       "sig                                                        26\n",
       "dmin                                                  0.06729\n",
       "type                                               earthquake\n",
       "title                       M 1.3 - 10km SSW of Idyllwild, CA\n",
       "geometry             POINT Z (-116.7776667 33.6633333 11.008)\n",
       "Name: 0, dtype: object"
      ]
     },
     "metadata": {},
     "execution_count": 8
    }
   ],
   "source": [
    "df.iloc[0]"
   ]
  },
  {
   "source": [
    "Converting date value to human readable format"
   ],
   "cell_type": "markdown",
   "metadata": {}
  },
  {
   "cell_type": "code",
   "execution_count": 32,
   "metadata": {},
   "outputs": [],
   "source": [
    "df['date'] = pd.to_datetime(df['time'],unit='ms')"
   ]
  },
  {
   "cell_type": "code",
   "execution_count": 34,
   "metadata": {},
   "outputs": [
    {
     "output_type": "execute_result",
     "data": {
      "text/plain": [
       "Timestamp('2014-01-01 23:51:36.020000')"
      ]
     },
     "metadata": {},
     "execution_count": 34
    }
   ],
   "source": [
    "df.iloc[0].date"
   ]
  },
  {
   "source": [
    "Konvertieren der Lon / Lat / Depth Spalten"
   ],
   "cell_type": "markdown",
   "metadata": {}
  },
  {
   "cell_type": "code",
   "execution_count": 44,
   "metadata": {},
   "outputs": [],
   "source": [
    "df['lon'] = df.geometry.x\n",
    "df['lat'] = df.geometry.y\n",
    "df['depth'] = df.geometry.z"
   ]
  },
  {
   "cell_type": "code",
   "execution_count": 46,
   "metadata": {},
   "outputs": [
    {
     "output_type": "execute_result",
     "data": {
      "text/plain": [
       "id                                                ak01421ig3u\n",
       "mag                                                       1.1\n",
       "place                           117km NW of Talkeetna, Alaska\n",
       "time                                            1388620046501\n",
       "updated                                         1558392330681\n",
       "tz                                                       -540\n",
       "url         https://earthquake.usgs.gov/earthquakes/eventp...\n",
       "detail      https://earthquake.usgs.gov/fdsnws/event/1/que...\n",
       "cdi                                                       NaN\n",
       "mmi                                                       NaN\n",
       "alert                                                    None\n",
       "tsunami                                                     0\n",
       "sig                                                        19\n",
       "dmin                                                      NaN\n",
       "type                                               earthquake\n",
       "title                   M 1.1 - 117km NW of Talkeetna, Alaska\n",
       "geometry                      POINT Z (-151.6459 63.102 14.1)\n",
       "date                               2014-01-01 23:47:26.501000\n",
       "lon                                                  -151.646\n",
       "lat                                                    63.102\n",
       "depth                                                    14.1\n",
       "Name: 1, dtype: object"
      ]
     },
     "metadata": {},
     "execution_count": 46
    }
   ],
   "source": [
    "df.iloc[1]"
   ]
  },
  {
   "cell_type": "code",
   "execution_count": null,
   "metadata": {},
   "outputs": [],
   "source": []
  }
 ]
}