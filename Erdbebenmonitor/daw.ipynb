{
 "metadata": {
  "language_info": {
   "codemirror_mode": {
    "name": "ipython",
    "version": 3
   },
   "file_extension": ".py",
   "mimetype": "text/x-python",
   "name": "python",
   "nbconvert_exporter": "python",
   "pygments_lexer": "ipython3",
   "version": "3.8.3"
  },
  "orig_nbformat": 4,
  "kernelspec": {
   "name": "python3",
   "display_name": "Python 3.8.3 64-bit"
  },
  "interpreter": {
   "hash": "aee8b7b246df8f9039afb4144a1f6fd8d2ca17a180786b69acc140d282b71a49"
  }
 },
 "nbformat": 4,
 "nbformat_minor": 2,
 "cells": [
  {
   "cell_type": "code",
   "execution_count": 1,
   "metadata": {},
   "outputs": [],
   "source": [
    "import pandas as pd\n",
    "import numpy as np\n",
    "import matplotlib as plt"
   ]
  },
  {
   "cell_type": "code",
   "execution_count": 2,
   "metadata": {},
   "outputs": [],
   "source": [
    "import geopandas as gpd"
   ]
  },
  {
   "cell_type": "code",
   "execution_count": 3,
   "metadata": {},
   "outputs": [
    {
     "output_type": "execute_result",
     "data": {
      "text/plain": [
       "              mag          time       updated  felt  cdi       mmi  \\\n",
       "count  326.000000  3.260000e+02  3.260000e+02   1.0  1.0  2.000000   \n",
       "mean     1.479693  1.388578e+12  1.488382e+12  32.0  3.1  4.385500   \n",
       "std      1.367151  2.614801e+07  5.440828e+10   NaN  NaN  0.174655   \n",
       "min     -0.900000  1.388534e+12  1.388584e+12  32.0  3.1  4.262000   \n",
       "25%      0.530000  1.388554e+12  1.457722e+12  32.0  3.1  4.323750   \n",
       "50%      1.115000  1.388578e+12  1.486063e+12  32.0  3.1  4.385500   \n",
       "75%      1.900000  1.388602e+12  1.530313e+12  32.0  3.1  4.447250   \n",
       "max      6.500000  1.388620e+12  1.598476e+12  32.0  3.1  4.509000   \n",
       "\n",
       "          tsunami         sig         nst        dmin        rms         gap  \n",
       "count  326.000000  326.000000  225.000000  257.000000  326.00000  264.000000  \n",
       "mean     0.003067   62.128834   16.448889    0.722739    0.26557  125.933258  \n",
       "std      0.055385  101.204570   13.508539    2.242265    0.35099   67.449180  \n",
       "min      0.000000    0.000000    3.000000    0.000901    0.00020   14.000000  \n",
       "25%      0.000000    4.000000    7.000000    0.012610    0.04000   78.250000  \n",
       "50%      0.000000   19.000000   12.000000    0.056760    0.11000  114.000000  \n",
       "75%      0.000000   56.000000   20.000000    0.168300    0.39750  156.260000  \n",
       "max      1.000000  650.000000   77.000000   17.795000    3.09000  316.800000  "
      ],
      "text/html": "<div>\n<style scoped>\n    .dataframe tbody tr th:only-of-type {\n        vertical-align: middle;\n    }\n\n    .dataframe tbody tr th {\n        vertical-align: top;\n    }\n\n    .dataframe thead th {\n        text-align: right;\n    }\n</style>\n<table border=\"1\" class=\"dataframe\">\n  <thead>\n    <tr style=\"text-align: right;\">\n      <th></th>\n      <th>mag</th>\n      <th>time</th>\n      <th>updated</th>\n      <th>felt</th>\n      <th>cdi</th>\n      <th>mmi</th>\n      <th>tsunami</th>\n      <th>sig</th>\n      <th>nst</th>\n      <th>dmin</th>\n      <th>rms</th>\n      <th>gap</th>\n    </tr>\n  </thead>\n  <tbody>\n    <tr>\n      <th>count</th>\n      <td>326.000000</td>\n      <td>3.260000e+02</td>\n      <td>3.260000e+02</td>\n      <td>1.0</td>\n      <td>1.0</td>\n      <td>2.000000</td>\n      <td>326.000000</td>\n      <td>326.000000</td>\n      <td>225.000000</td>\n      <td>257.000000</td>\n      <td>326.00000</td>\n      <td>264.000000</td>\n    </tr>\n    <tr>\n      <th>mean</th>\n      <td>1.479693</td>\n      <td>1.388578e+12</td>\n      <td>1.488382e+12</td>\n      <td>32.0</td>\n      <td>3.1</td>\n      <td>4.385500</td>\n      <td>0.003067</td>\n      <td>62.128834</td>\n      <td>16.448889</td>\n      <td>0.722739</td>\n      <td>0.26557</td>\n      <td>125.933258</td>\n    </tr>\n    <tr>\n      <th>std</th>\n      <td>1.367151</td>\n      <td>2.614801e+07</td>\n      <td>5.440828e+10</td>\n      <td>NaN</td>\n      <td>NaN</td>\n      <td>0.174655</td>\n      <td>0.055385</td>\n      <td>101.204570</td>\n      <td>13.508539</td>\n      <td>2.242265</td>\n      <td>0.35099</td>\n      <td>67.449180</td>\n    </tr>\n    <tr>\n      <th>min</th>\n      <td>-0.900000</td>\n      <td>1.388534e+12</td>\n      <td>1.388584e+12</td>\n      <td>32.0</td>\n      <td>3.1</td>\n      <td>4.262000</td>\n      <td>0.000000</td>\n      <td>0.000000</td>\n      <td>3.000000</td>\n      <td>0.000901</td>\n      <td>0.00020</td>\n      <td>14.000000</td>\n    </tr>\n    <tr>\n      <th>25%</th>\n      <td>0.530000</td>\n      <td>1.388554e+12</td>\n      <td>1.457722e+12</td>\n      <td>32.0</td>\n      <td>3.1</td>\n      <td>4.323750</td>\n      <td>0.000000</td>\n      <td>4.000000</td>\n      <td>7.000000</td>\n      <td>0.012610</td>\n      <td>0.04000</td>\n      <td>78.250000</td>\n    </tr>\n    <tr>\n      <th>50%</th>\n      <td>1.115000</td>\n      <td>1.388578e+12</td>\n      <td>1.486063e+12</td>\n      <td>32.0</td>\n      <td>3.1</td>\n      <td>4.385500</td>\n      <td>0.000000</td>\n      <td>19.000000</td>\n      <td>12.000000</td>\n      <td>0.056760</td>\n      <td>0.11000</td>\n      <td>114.000000</td>\n    </tr>\n    <tr>\n      <th>75%</th>\n      <td>1.900000</td>\n      <td>1.388602e+12</td>\n      <td>1.530313e+12</td>\n      <td>32.0</td>\n      <td>3.1</td>\n      <td>4.447250</td>\n      <td>0.000000</td>\n      <td>56.000000</td>\n      <td>20.000000</td>\n      <td>0.168300</td>\n      <td>0.39750</td>\n      <td>156.260000</td>\n    </tr>\n    <tr>\n      <th>max</th>\n      <td>6.500000</td>\n      <td>1.388620e+12</td>\n      <td>1.598476e+12</td>\n      <td>32.0</td>\n      <td>3.1</td>\n      <td>4.509000</td>\n      <td>1.000000</td>\n      <td>650.000000</td>\n      <td>77.000000</td>\n      <td>17.795000</td>\n      <td>3.09000</td>\n      <td>316.800000</td>\n    </tr>\n  </tbody>\n</table>\n</div>"
     },
     "metadata": {},
     "execution_count": 3
    }
   ],
   "source": [
    "df = gpd.read_file('https://earthquake.usgs.gov/fdsnws/event/1/query?format=geojson&starttime=2014-01-01&endtime=2014-01-02')\n",
    "\n",
    "df.describe()"
   ]
  },
  {
   "cell_type": "code",
   "execution_count": 4,
   "metadata": {},
   "outputs": [
    {
     "output_type": "stream",
     "name": "stdout",
     "text": [
      "<class 'geopandas.geodataframe.GeoDataFrame'>\nRangeIndex: 326 entries, 0 to 325\nData columns (total 28 columns):\n #   Column    Non-Null Count  Dtype   \n---  ------    --------------  -----   \n 0   id        326 non-null    object  \n 1   mag       326 non-null    float64 \n 2   place     325 non-null    object  \n 3   time      326 non-null    int64   \n 4   updated   326 non-null    int64   \n 5   tz        0 non-null      object  \n 6   url       326 non-null    object  \n 7   detail    326 non-null    object  \n 8   felt      1 non-null      float64 \n 9   cdi       1 non-null      float64 \n 10  mmi       2 non-null      float64 \n 11  alert     1 non-null      object  \n 12  status    326 non-null    object  \n 13  tsunami   326 non-null    int64   \n 14  sig       326 non-null    int64   \n 15  net       326 non-null    object  \n 16  code      326 non-null    object  \n 17  ids       326 non-null    object  \n 18  sources   326 non-null    object  \n 19  types     326 non-null    object  \n 20  nst       225 non-null    float64 \n 21  dmin      257 non-null    float64 \n 22  rms       326 non-null    float64 \n 23  gap       264 non-null    float64 \n 24  magType   326 non-null    object  \n 25  type      326 non-null    object  \n 26  title     326 non-null    object  \n 27  geometry  326 non-null    geometry\ndtypes: float64(8), geometry(1), int64(4), object(15)\nmemory usage: 71.4+ KB\n"
     ]
    }
   ],
   "source": [
    "df.info()"
   ]
  },
  {
   "cell_type": "code",
   "execution_count": 5,
   "metadata": {},
   "outputs": [],
   "source": [
    "df['date'] = pd.to_datetime(df['time'],unit='ms')"
   ]
  },
  {
   "cell_type": "code",
   "execution_count": 16,
   "metadata": {},
   "outputs": [],
   "source": [
    "df['lon'] = df.geometry.x\n",
    "df['lat'] = df.geometry.y"
   ]
  },
  {
   "cell_type": "code",
   "execution_count": 39,
   "metadata": {},
   "outputs": [
    {
     "output_type": "execute_result",
     "data": {
      "text/plain": [
       "<matplotlib.axes._subplots.AxesSubplot at 0x7f9ac76703a0>"
      ]
     },
     "metadata": {},
     "execution_count": 39
    },
    {
     "output_type": "display_data",
     "data": {
      "text/plain": "<Figure size 432x288 with 1 Axes>",
      "image/svg+xml": "<?xml version=\"1.0\" encoding=\"utf-8\" standalone=\"no\"?>\n<!DOCTYPE svg PUBLIC \"-//W3C//DTD SVG 1.1//EN\"\n  \"http://www.w3.org/Graphics/SVG/1.1/DTD/svg11.dtd\">\n<!-- Created with matplotlib (https://matplotlib.org/) -->\n<svg height=\"248.518125pt\" version=\"1.1\" viewBox=\"0 0 375.2875 248.518125\" width=\"375.2875pt\" xmlns=\"http://www.w3.org/2000/svg\" xmlns:xlink=\"http://www.w3.org/1999/xlink\">\n <defs>\n  <style type=\"text/css\">\n*{stroke-linecap:butt;stroke-linejoin:round;}\n  </style>\n </defs>\n <g id=\"figure_1\">\n  <g id=\"patch_1\">\n   <path d=\"M 0 248.518125 \nL 375.2875 248.518125 \nL 375.2875 0 \nL 0 0 \nz\n\" style=\"fill:none;\"/>\n  </g>\n  <g id=\"axes_1\">\n   <g id=\"patch_2\">\n    <path d=\"M 33.2875 224.64 \nL 368.0875 224.64 \nL 368.0875 7.2 \nL 33.2875 7.2 \nz\n\" style=\"fill:#ffffff;\"/>\n   </g>\n   <g id=\"patch_3\">\n    <path clip-path=\"url(#p740f0f02ab)\" d=\"M 48.505682 224.64 \nL 78.942045 224.64 \nL 78.942045 199.021149 \nL 48.505682 199.021149 \nz\n\" style=\"fill:#1f77b4;\"/>\n   </g>\n   <g id=\"patch_4\">\n    <path clip-path=\"url(#p740f0f02ab)\" d=\"M 78.942045 224.64 \nL 109.378409 224.64 \nL 109.378409 53.847658 \nL 78.942045 53.847658 \nz\n\" style=\"fill:#1f77b4;\"/>\n   </g>\n   <g id=\"patch_5\">\n    <path clip-path=\"url(#p740f0f02ab)\" d=\"M 109.378409 224.64 \nL 139.814773 224.64 \nL 139.814773 17.554286 \nL 109.378409 17.554286 \nz\n\" style=\"fill:#1f77b4;\"/>\n   </g>\n   <g id=\"patch_6\">\n    <path clip-path=\"url(#p740f0f02ab)\" d=\"M 139.814773 224.64 \nL 170.251136 224.64 \nL 170.251136 90.141031 \nL 139.814773 90.141031 \nz\n\" style=\"fill:#1f77b4;\"/>\n   </g>\n   <g id=\"patch_7\">\n    <path clip-path=\"url(#p740f0f02ab)\" d=\"M 170.251136 224.64 \nL 200.6875 224.64 \nL 200.6875 171.267393 \nL 170.251136 171.267393 \nz\n\" style=\"fill:#1f77b4;\"/>\n   </g>\n   <g id=\"patch_8\">\n    <path clip-path=\"url(#p740f0f02ab)\" d=\"M 200.6875 224.64 \nL 231.123864 224.64 \nL 231.123864 211.830574 \nL 200.6875 211.830574 \nz\n\" style=\"fill:#1f77b4;\"/>\n   </g>\n   <g id=\"patch_9\">\n    <path clip-path=\"url(#p740f0f02ab)\" d=\"M 231.123864 224.64 \nL 261.560227 224.64 \nL 261.560227 184.076819 \nL 231.123864 184.076819 \nz\n\" style=\"fill:#1f77b4;\"/>\n   </g>\n   <g id=\"patch_10\">\n    <path clip-path=\"url(#p740f0f02ab)\" d=\"M 261.560227 224.64 \nL 291.996591 224.64 \nL 291.996591 177.672106 \nL 261.560227 177.672106 \nz\n\" style=\"fill:#1f77b4;\"/>\n   </g>\n   <g id=\"patch_11\">\n    <path clip-path=\"url(#p740f0f02ab)\" d=\"M 291.996591 224.64 \nL 322.432955 224.64 \nL 322.432955 222.505096 \nL 291.996591 222.505096 \nz\n\" style=\"fill:#1f77b4;\"/>\n   </g>\n   <g id=\"patch_12\">\n    <path clip-path=\"url(#p740f0f02ab)\" d=\"M 322.432955 224.64 \nL 352.869318 224.64 \nL 352.869318 222.505096 \nL 322.432955 222.505096 \nz\n\" style=\"fill:#1f77b4;\"/>\n   </g>\n   <g id=\"matplotlib.axis_1\">\n    <g id=\"xtick_1\">\n     <g id=\"line2d_1\">\n      <path clip-path=\"url(#p740f0f02ab)\" d=\"M 44.39266 224.64 \nL 44.39266 7.2 \n\" style=\"fill:none;stroke:#b0b0b0;stroke-linecap:square;stroke-width:0.8;\"/>\n     </g>\n     <g id=\"line2d_2\">\n      <defs>\n       <path d=\"M 0 0 \nL 0 3.5 \n\" id=\"m6cb71e44ac\" style=\"stroke:#000000;stroke-width:0.8;\"/>\n      </defs>\n      <g>\n       <use style=\"stroke:#000000;stroke-width:0.8;\" x=\"44.39266\" xlink:href=\"#m6cb71e44ac\" y=\"224.64\"/>\n      </g>\n     </g>\n     <g id=\"text_1\">\n      <!-- −1 -->\n      <defs>\n       <path d=\"M 10.59375 35.5 \nL 73.1875 35.5 \nL 73.1875 27.203125 \nL 10.59375 27.203125 \nz\n\" id=\"DejaVuSans-8722\"/>\n       <path d=\"M 12.40625 8.296875 \nL 28.515625 8.296875 \nL 28.515625 63.921875 \nL 10.984375 60.40625 \nL 10.984375 69.390625 \nL 28.421875 72.90625 \nL 38.28125 72.90625 \nL 38.28125 8.296875 \nL 54.390625 8.296875 \nL 54.390625 0 \nL 12.40625 0 \nz\n\" id=\"DejaVuSans-49\"/>\n      </defs>\n      <g transform=\"translate(37.021566 239.238437)scale(0.1 -0.1)\">\n       <use xlink:href=\"#DejaVuSans-8722\"/>\n       <use x=\"83.789062\" xlink:href=\"#DejaVuSans-49\"/>\n      </g>\n     </g>\n    </g>\n    <g id=\"xtick_2\">\n     <g id=\"line2d_3\">\n      <path clip-path=\"url(#p740f0f02ab)\" d=\"M 85.522881 224.64 \nL 85.522881 7.2 \n\" style=\"fill:none;stroke:#b0b0b0;stroke-linecap:square;stroke-width:0.8;\"/>\n     </g>\n     <g id=\"line2d_4\">\n      <g>\n       <use style=\"stroke:#000000;stroke-width:0.8;\" x=\"85.522881\" xlink:href=\"#m6cb71e44ac\" y=\"224.64\"/>\n      </g>\n     </g>\n     <g id=\"text_2\">\n      <!-- 0 -->\n      <defs>\n       <path d=\"M 31.78125 66.40625 \nQ 24.171875 66.40625 20.328125 58.90625 \nQ 16.5 51.421875 16.5 36.375 \nQ 16.5 21.390625 20.328125 13.890625 \nQ 24.171875 6.390625 31.78125 6.390625 \nQ 39.453125 6.390625 43.28125 13.890625 \nQ 47.125 21.390625 47.125 36.375 \nQ 47.125 51.421875 43.28125 58.90625 \nQ 39.453125 66.40625 31.78125 66.40625 \nz\nM 31.78125 74.21875 \nQ 44.046875 74.21875 50.515625 64.515625 \nQ 56.984375 54.828125 56.984375 36.375 \nQ 56.984375 17.96875 50.515625 8.265625 \nQ 44.046875 -1.421875 31.78125 -1.421875 \nQ 19.53125 -1.421875 13.0625 8.265625 \nQ 6.59375 17.96875 6.59375 36.375 \nQ 6.59375 54.828125 13.0625 64.515625 \nQ 19.53125 74.21875 31.78125 74.21875 \nz\n\" id=\"DejaVuSans-48\"/>\n      </defs>\n      <g transform=\"translate(82.341631 239.238437)scale(0.1 -0.1)\">\n       <use xlink:href=\"#DejaVuSans-48\"/>\n      </g>\n     </g>\n    </g>\n    <g id=\"xtick_3\">\n     <g id=\"line2d_5\">\n      <path clip-path=\"url(#p740f0f02ab)\" d=\"M 126.653102 224.64 \nL 126.653102 7.2 \n\" style=\"fill:none;stroke:#b0b0b0;stroke-linecap:square;stroke-width:0.8;\"/>\n     </g>\n     <g id=\"line2d_6\">\n      <g>\n       <use style=\"stroke:#000000;stroke-width:0.8;\" x=\"126.653102\" xlink:href=\"#m6cb71e44ac\" y=\"224.64\"/>\n      </g>\n     </g>\n     <g id=\"text_3\">\n      <!-- 1 -->\n      <g transform=\"translate(123.471852 239.238437)scale(0.1 -0.1)\">\n       <use xlink:href=\"#DejaVuSans-49\"/>\n      </g>\n     </g>\n    </g>\n    <g id=\"xtick_4\">\n     <g id=\"line2d_7\">\n      <path clip-path=\"url(#p740f0f02ab)\" d=\"M 167.783323 224.64 \nL 167.783323 7.2 \n\" style=\"fill:none;stroke:#b0b0b0;stroke-linecap:square;stroke-width:0.8;\"/>\n     </g>\n     <g id=\"line2d_8\">\n      <g>\n       <use style=\"stroke:#000000;stroke-width:0.8;\" x=\"167.783323\" xlink:href=\"#m6cb71e44ac\" y=\"224.64\"/>\n      </g>\n     </g>\n     <g id=\"text_4\">\n      <!-- 2 -->\n      <defs>\n       <path d=\"M 19.1875 8.296875 \nL 53.609375 8.296875 \nL 53.609375 0 \nL 7.328125 0 \nL 7.328125 8.296875 \nQ 12.9375 14.109375 22.625 23.890625 \nQ 32.328125 33.6875 34.8125 36.53125 \nQ 39.546875 41.84375 41.421875 45.53125 \nQ 43.3125 49.21875 43.3125 52.78125 \nQ 43.3125 58.59375 39.234375 62.25 \nQ 35.15625 65.921875 28.609375 65.921875 \nQ 23.96875 65.921875 18.8125 64.3125 \nQ 13.671875 62.703125 7.8125 59.421875 \nL 7.8125 69.390625 \nQ 13.765625 71.78125 18.9375 73 \nQ 24.125 74.21875 28.421875 74.21875 \nQ 39.75 74.21875 46.484375 68.546875 \nQ 53.21875 62.890625 53.21875 53.421875 \nQ 53.21875 48.921875 51.53125 44.890625 \nQ 49.859375 40.875 45.40625 35.40625 \nQ 44.1875 33.984375 37.640625 27.21875 \nQ 31.109375 20.453125 19.1875 8.296875 \nz\n\" id=\"DejaVuSans-50\"/>\n      </defs>\n      <g transform=\"translate(164.602073 239.238437)scale(0.1 -0.1)\">\n       <use xlink:href=\"#DejaVuSans-50\"/>\n      </g>\n     </g>\n    </g>\n    <g id=\"xtick_5\">\n     <g id=\"line2d_9\">\n      <path clip-path=\"url(#p740f0f02ab)\" d=\"M 208.913544 224.64 \nL 208.913544 7.2 \n\" style=\"fill:none;stroke:#b0b0b0;stroke-linecap:square;stroke-width:0.8;\"/>\n     </g>\n     <g id=\"line2d_10\">\n      <g>\n       <use style=\"stroke:#000000;stroke-width:0.8;\" x=\"208.913544\" xlink:href=\"#m6cb71e44ac\" y=\"224.64\"/>\n      </g>\n     </g>\n     <g id=\"text_5\">\n      <!-- 3 -->\n      <defs>\n       <path d=\"M 40.578125 39.3125 \nQ 47.65625 37.796875 51.625 33 \nQ 55.609375 28.21875 55.609375 21.1875 \nQ 55.609375 10.40625 48.1875 4.484375 \nQ 40.765625 -1.421875 27.09375 -1.421875 \nQ 22.515625 -1.421875 17.65625 -0.515625 \nQ 12.796875 0.390625 7.625 2.203125 \nL 7.625 11.71875 \nQ 11.71875 9.328125 16.59375 8.109375 \nQ 21.484375 6.890625 26.8125 6.890625 \nQ 36.078125 6.890625 40.9375 10.546875 \nQ 45.796875 14.203125 45.796875 21.1875 \nQ 45.796875 27.640625 41.28125 31.265625 \nQ 36.765625 34.90625 28.71875 34.90625 \nL 20.21875 34.90625 \nL 20.21875 43.015625 \nL 29.109375 43.015625 \nQ 36.375 43.015625 40.234375 45.921875 \nQ 44.09375 48.828125 44.09375 54.296875 \nQ 44.09375 59.90625 40.109375 62.90625 \nQ 36.140625 65.921875 28.71875 65.921875 \nQ 24.65625 65.921875 20.015625 65.03125 \nQ 15.375 64.15625 9.8125 62.3125 \nL 9.8125 71.09375 \nQ 15.4375 72.65625 20.34375 73.4375 \nQ 25.25 74.21875 29.59375 74.21875 \nQ 40.828125 74.21875 47.359375 69.109375 \nQ 53.90625 64.015625 53.90625 55.328125 \nQ 53.90625 49.265625 50.4375 45.09375 \nQ 46.96875 40.921875 40.578125 39.3125 \nz\n\" id=\"DejaVuSans-51\"/>\n      </defs>\n      <g transform=\"translate(205.732294 239.238437)scale(0.1 -0.1)\">\n       <use xlink:href=\"#DejaVuSans-51\"/>\n      </g>\n     </g>\n    </g>\n    <g id=\"xtick_6\">\n     <g id=\"line2d_11\">\n      <path clip-path=\"url(#p740f0f02ab)\" d=\"M 250.043765 224.64 \nL 250.043765 7.2 \n\" style=\"fill:none;stroke:#b0b0b0;stroke-linecap:square;stroke-width:0.8;\"/>\n     </g>\n     <g id=\"line2d_12\">\n      <g>\n       <use style=\"stroke:#000000;stroke-width:0.8;\" x=\"250.043765\" xlink:href=\"#m6cb71e44ac\" y=\"224.64\"/>\n      </g>\n     </g>\n     <g id=\"text_6\">\n      <!-- 4 -->\n      <defs>\n       <path d=\"M 37.796875 64.3125 \nL 12.890625 25.390625 \nL 37.796875 25.390625 \nz\nM 35.203125 72.90625 \nL 47.609375 72.90625 \nL 47.609375 25.390625 \nL 58.015625 25.390625 \nL 58.015625 17.1875 \nL 47.609375 17.1875 \nL 47.609375 0 \nL 37.796875 0 \nL 37.796875 17.1875 \nL 4.890625 17.1875 \nL 4.890625 26.703125 \nz\n\" id=\"DejaVuSans-52\"/>\n      </defs>\n      <g transform=\"translate(246.862515 239.238437)scale(0.1 -0.1)\">\n       <use xlink:href=\"#DejaVuSans-52\"/>\n      </g>\n     </g>\n    </g>\n    <g id=\"xtick_7\">\n     <g id=\"line2d_13\">\n      <path clip-path=\"url(#p740f0f02ab)\" d=\"M 291.173986 224.64 \nL 291.173986 7.2 \n\" style=\"fill:none;stroke:#b0b0b0;stroke-linecap:square;stroke-width:0.8;\"/>\n     </g>\n     <g id=\"line2d_14\">\n      <g>\n       <use style=\"stroke:#000000;stroke-width:0.8;\" x=\"291.173986\" xlink:href=\"#m6cb71e44ac\" y=\"224.64\"/>\n      </g>\n     </g>\n     <g id=\"text_7\">\n      <!-- 5 -->\n      <defs>\n       <path d=\"M 10.796875 72.90625 \nL 49.515625 72.90625 \nL 49.515625 64.59375 \nL 19.828125 64.59375 \nL 19.828125 46.734375 \nQ 21.96875 47.46875 24.109375 47.828125 \nQ 26.265625 48.1875 28.421875 48.1875 \nQ 40.625 48.1875 47.75 41.5 \nQ 54.890625 34.8125 54.890625 23.390625 \nQ 54.890625 11.625 47.5625 5.09375 \nQ 40.234375 -1.421875 26.90625 -1.421875 \nQ 22.3125 -1.421875 17.546875 -0.640625 \nQ 12.796875 0.140625 7.71875 1.703125 \nL 7.71875 11.625 \nQ 12.109375 9.234375 16.796875 8.0625 \nQ 21.484375 6.890625 26.703125 6.890625 \nQ 35.15625 6.890625 40.078125 11.328125 \nQ 45.015625 15.765625 45.015625 23.390625 \nQ 45.015625 31 40.078125 35.4375 \nQ 35.15625 39.890625 26.703125 39.890625 \nQ 22.75 39.890625 18.8125 39.015625 \nQ 14.890625 38.140625 10.796875 36.28125 \nz\n\" id=\"DejaVuSans-53\"/>\n      </defs>\n      <g transform=\"translate(287.992736 239.238437)scale(0.1 -0.1)\">\n       <use xlink:href=\"#DejaVuSans-53\"/>\n      </g>\n     </g>\n    </g>\n    <g id=\"xtick_8\">\n     <g id=\"line2d_15\">\n      <path clip-path=\"url(#p740f0f02ab)\" d=\"M 332.304208 224.64 \nL 332.304208 7.2 \n\" style=\"fill:none;stroke:#b0b0b0;stroke-linecap:square;stroke-width:0.8;\"/>\n     </g>\n     <g id=\"line2d_16\">\n      <g>\n       <use style=\"stroke:#000000;stroke-width:0.8;\" x=\"332.304208\" xlink:href=\"#m6cb71e44ac\" y=\"224.64\"/>\n      </g>\n     </g>\n     <g id=\"text_8\">\n      <!-- 6 -->\n      <defs>\n       <path d=\"M 33.015625 40.375 \nQ 26.375 40.375 22.484375 35.828125 \nQ 18.609375 31.296875 18.609375 23.390625 \nQ 18.609375 15.53125 22.484375 10.953125 \nQ 26.375 6.390625 33.015625 6.390625 \nQ 39.65625 6.390625 43.53125 10.953125 \nQ 47.40625 15.53125 47.40625 23.390625 \nQ 47.40625 31.296875 43.53125 35.828125 \nQ 39.65625 40.375 33.015625 40.375 \nz\nM 52.59375 71.296875 \nL 52.59375 62.3125 \nQ 48.875 64.0625 45.09375 64.984375 \nQ 41.3125 65.921875 37.59375 65.921875 \nQ 27.828125 65.921875 22.671875 59.328125 \nQ 17.53125 52.734375 16.796875 39.40625 \nQ 19.671875 43.65625 24.015625 45.921875 \nQ 28.375 48.1875 33.59375 48.1875 \nQ 44.578125 48.1875 50.953125 41.515625 \nQ 57.328125 34.859375 57.328125 23.390625 \nQ 57.328125 12.15625 50.6875 5.359375 \nQ 44.046875 -1.421875 33.015625 -1.421875 \nQ 20.359375 -1.421875 13.671875 8.265625 \nQ 6.984375 17.96875 6.984375 36.375 \nQ 6.984375 53.65625 15.1875 63.9375 \nQ 23.390625 74.21875 37.203125 74.21875 \nQ 40.921875 74.21875 44.703125 73.484375 \nQ 48.484375 72.75 52.59375 71.296875 \nz\n\" id=\"DejaVuSans-54\"/>\n      </defs>\n      <g transform=\"translate(329.122958 239.238437)scale(0.1 -0.1)\">\n       <use xlink:href=\"#DejaVuSans-54\"/>\n      </g>\n     </g>\n    </g>\n   </g>\n   <g id=\"matplotlib.axis_2\">\n    <g id=\"ytick_1\">\n     <g id=\"line2d_17\">\n      <path clip-path=\"url(#p740f0f02ab)\" d=\"M 33.2875 224.64 \nL 368.0875 224.64 \n\" style=\"fill:none;stroke:#b0b0b0;stroke-linecap:square;stroke-width:0.8;\"/>\n     </g>\n     <g id=\"line2d_18\">\n      <defs>\n       <path d=\"M 0 0 \nL -3.5 0 \n\" id=\"m2bf7bca132\" style=\"stroke:#000000;stroke-width:0.8;\"/>\n      </defs>\n      <g>\n       <use style=\"stroke:#000000;stroke-width:0.8;\" x=\"33.2875\" xlink:href=\"#m2bf7bca132\" y=\"224.64\"/>\n      </g>\n     </g>\n     <g id=\"text_9\">\n      <!-- 0 -->\n      <g transform=\"translate(19.925 228.439219)scale(0.1 -0.1)\">\n       <use xlink:href=\"#DejaVuSans-48\"/>\n      </g>\n     </g>\n    </g>\n    <g id=\"ytick_2\">\n     <g id=\"line2d_19\">\n      <path clip-path=\"url(#p740f0f02ab)\" d=\"M 33.2875 181.941915 \nL 368.0875 181.941915 \n\" style=\"fill:none;stroke:#b0b0b0;stroke-linecap:square;stroke-width:0.8;\"/>\n     </g>\n     <g id=\"line2d_20\">\n      <g>\n       <use style=\"stroke:#000000;stroke-width:0.8;\" x=\"33.2875\" xlink:href=\"#m2bf7bca132\" y=\"181.941915\"/>\n      </g>\n     </g>\n     <g id=\"text_10\">\n      <!-- 20 -->\n      <g transform=\"translate(13.5625 185.741133)scale(0.1 -0.1)\">\n       <use xlink:href=\"#DejaVuSans-50\"/>\n       <use x=\"63.623047\" xlink:href=\"#DejaVuSans-48\"/>\n      </g>\n     </g>\n    </g>\n    <g id=\"ytick_3\">\n     <g id=\"line2d_21\">\n      <path clip-path=\"url(#p740f0f02ab)\" d=\"M 33.2875 139.243829 \nL 368.0875 139.243829 \n\" style=\"fill:none;stroke:#b0b0b0;stroke-linecap:square;stroke-width:0.8;\"/>\n     </g>\n     <g id=\"line2d_22\">\n      <g>\n       <use style=\"stroke:#000000;stroke-width:0.8;\" x=\"33.2875\" xlink:href=\"#m2bf7bca132\" y=\"139.243829\"/>\n      </g>\n     </g>\n     <g id=\"text_11\">\n      <!-- 40 -->\n      <g transform=\"translate(13.5625 143.043048)scale(0.1 -0.1)\">\n       <use xlink:href=\"#DejaVuSans-52\"/>\n       <use x=\"63.623047\" xlink:href=\"#DejaVuSans-48\"/>\n      </g>\n     </g>\n    </g>\n    <g id=\"ytick_4\">\n     <g id=\"line2d_23\">\n      <path clip-path=\"url(#p740f0f02ab)\" d=\"M 33.2875 96.545744 \nL 368.0875 96.545744 \n\" style=\"fill:none;stroke:#b0b0b0;stroke-linecap:square;stroke-width:0.8;\"/>\n     </g>\n     <g id=\"line2d_24\">\n      <g>\n       <use style=\"stroke:#000000;stroke-width:0.8;\" x=\"33.2875\" xlink:href=\"#m2bf7bca132\" y=\"96.545744\"/>\n      </g>\n     </g>\n     <g id=\"text_12\">\n      <!-- 60 -->\n      <g transform=\"translate(13.5625 100.344962)scale(0.1 -0.1)\">\n       <use xlink:href=\"#DejaVuSans-54\"/>\n       <use x=\"63.623047\" xlink:href=\"#DejaVuSans-48\"/>\n      </g>\n     </g>\n    </g>\n    <g id=\"ytick_5\">\n     <g id=\"line2d_25\">\n      <path clip-path=\"url(#p740f0f02ab)\" d=\"M 33.2875 53.847658 \nL 368.0875 53.847658 \n\" style=\"fill:none;stroke:#b0b0b0;stroke-linecap:square;stroke-width:0.8;\"/>\n     </g>\n     <g id=\"line2d_26\">\n      <g>\n       <use style=\"stroke:#000000;stroke-width:0.8;\" x=\"33.2875\" xlink:href=\"#m2bf7bca132\" y=\"53.847658\"/>\n      </g>\n     </g>\n     <g id=\"text_13\">\n      <!-- 80 -->\n      <defs>\n       <path d=\"M 31.78125 34.625 \nQ 24.75 34.625 20.71875 30.859375 \nQ 16.703125 27.09375 16.703125 20.515625 \nQ 16.703125 13.921875 20.71875 10.15625 \nQ 24.75 6.390625 31.78125 6.390625 \nQ 38.8125 6.390625 42.859375 10.171875 \nQ 46.921875 13.96875 46.921875 20.515625 \nQ 46.921875 27.09375 42.890625 30.859375 \nQ 38.875 34.625 31.78125 34.625 \nz\nM 21.921875 38.8125 \nQ 15.578125 40.375 12.03125 44.71875 \nQ 8.5 49.078125 8.5 55.328125 \nQ 8.5 64.0625 14.71875 69.140625 \nQ 20.953125 74.21875 31.78125 74.21875 \nQ 42.671875 74.21875 48.875 69.140625 \nQ 55.078125 64.0625 55.078125 55.328125 \nQ 55.078125 49.078125 51.53125 44.71875 \nQ 48 40.375 41.703125 38.8125 \nQ 48.828125 37.15625 52.796875 32.3125 \nQ 56.78125 27.484375 56.78125 20.515625 \nQ 56.78125 9.90625 50.3125 4.234375 \nQ 43.84375 -1.421875 31.78125 -1.421875 \nQ 19.734375 -1.421875 13.25 4.234375 \nQ 6.78125 9.90625 6.78125 20.515625 \nQ 6.78125 27.484375 10.78125 32.3125 \nQ 14.796875 37.15625 21.921875 38.8125 \nz\nM 18.3125 54.390625 \nQ 18.3125 48.734375 21.84375 45.5625 \nQ 25.390625 42.390625 31.78125 42.390625 \nQ 38.140625 42.390625 41.71875 45.5625 \nQ 45.3125 48.734375 45.3125 54.390625 \nQ 45.3125 60.0625 41.71875 63.234375 \nQ 38.140625 66.40625 31.78125 66.40625 \nQ 25.390625 66.40625 21.84375 63.234375 \nQ 18.3125 60.0625 18.3125 54.390625 \nz\n\" id=\"DejaVuSans-56\"/>\n      </defs>\n      <g transform=\"translate(13.5625 57.646877)scale(0.1 -0.1)\">\n       <use xlink:href=\"#DejaVuSans-56\"/>\n       <use x=\"63.623047\" xlink:href=\"#DejaVuSans-48\"/>\n      </g>\n     </g>\n    </g>\n    <g id=\"ytick_6\">\n     <g id=\"line2d_27\">\n      <path clip-path=\"url(#p740f0f02ab)\" d=\"M 33.2875 11.149573 \nL 368.0875 11.149573 \n\" style=\"fill:none;stroke:#b0b0b0;stroke-linecap:square;stroke-width:0.8;\"/>\n     </g>\n     <g id=\"line2d_28\">\n      <g>\n       <use style=\"stroke:#000000;stroke-width:0.8;\" x=\"33.2875\" xlink:href=\"#m2bf7bca132\" y=\"11.149573\"/>\n      </g>\n     </g>\n     <g id=\"text_14\">\n      <!-- 100 -->\n      <g transform=\"translate(7.2 14.948792)scale(0.1 -0.1)\">\n       <use xlink:href=\"#DejaVuSans-49\"/>\n       <use x=\"63.623047\" xlink:href=\"#DejaVuSans-48\"/>\n       <use x=\"127.246094\" xlink:href=\"#DejaVuSans-48\"/>\n      </g>\n     </g>\n    </g>\n   </g>\n   <g id=\"patch_13\">\n    <path d=\"M 33.2875 224.64 \nL 33.2875 7.2 \n\" style=\"fill:none;stroke:#000000;stroke-linecap:square;stroke-linejoin:miter;stroke-width:0.8;\"/>\n   </g>\n   <g id=\"patch_14\">\n    <path d=\"M 368.0875 224.64 \nL 368.0875 7.2 \n\" style=\"fill:none;stroke:#000000;stroke-linecap:square;stroke-linejoin:miter;stroke-width:0.8;\"/>\n   </g>\n   <g id=\"patch_15\">\n    <path d=\"M 33.2875 224.64 \nL 368.0875 224.64 \n\" style=\"fill:none;stroke:#000000;stroke-linecap:square;stroke-linejoin:miter;stroke-width:0.8;\"/>\n   </g>\n   <g id=\"patch_16\">\n    <path d=\"M 33.2875 7.2 \nL 368.0875 7.2 \n\" style=\"fill:none;stroke:#000000;stroke-linecap:square;stroke-linejoin:miter;stroke-width:0.8;\"/>\n   </g>\n  </g>\n </g>\n <defs>\n  <clipPath id=\"p740f0f02ab\">\n   <rect height=\"217.44\" width=\"334.8\" x=\"33.2875\" y=\"7.2\"/>\n  </clipPath>\n </defs>\n</svg>\n",
      "image/png": "[encoded data removed]"
     },
     "metadata": {
      "needs_background": "light"
     }
    }
   ],
   "source": [
    "df['mag'].hist()"
   ]
  },
  {
   "cell_type": "code",
   "execution_count": 36,
   "metadata": {},
   "outputs": [
    {
     "output_type": "display_data",
     "data": {
      "application/vnd.plotly.v1+json": {
       "config": {
        "plotlyServerURL": "https://plot.ly"
       },
       "data": [
        {
         "hovertemplate": "mag2=%{marker.size}<br>lat=%{lat}<br>lon=%{lon}<extra></extra>",
         "lat": [
          33.6633333,
          63.102,
          61.4581,
          62.7884,
          -29.888,
          38.8071671,
          37.6433333,
          33.5175,
          38.5678,
          -23.9576,
          53.3823,
          -6.1578,
          48.4256667,
          38.5819,
          18.3276,
          33.1823333,
          17.7689,
          36.6771,
          37.5738333,
          32.2258333,
          38.7745,
          37.3576667,
          38.8033333,
          38.8096667,
          -13.7511,
          38.5729,
          46.8501667,
          33.7068333,
          37.6036667,
          38.8081665,
          38.5754,
          38.8013333,
          33.5045,
          37.6426667,
          37.6428333,
          37.6308333,
          -45.9283,
          61.2575,
          37.6445,
          60.4997,
          38.8436661,
          38.8203316,
          53.4359,
          38.8173333,
          36.6753,
          64.8102,
          -6.4984,
          38.8221664,
          33.7718333,
          -3.0101,
          40.2123333,
          38.3097,
          0.9787,
          32.2136667,
          36.0906667,
          38.3078,
          63.2785,
          60.0342,
          19.52,
          38.8198318,
          38.8009987,
          47.373,
          38.8318333,
          33.7731667,
          38.758667,
          38.8101654,
          40.2136667,
          35.668,
          54.8422,
          33.4721667,
          37.1537,
          61.1638,
          37.6465,
          4.5344,
          60.2196,
          36.0983333,
          38.8028336,
          37.552,
          36.611,
          40.3201667,
          61.6796,
          35.6771667,
          45.5563333,
          61.6231,
          40.3113,
          38.8188324,
          35.6641667,
          62.1779,
          37.6331667,
          38.7989998,
          40.2989,
          37.6333333,
          37.6315,
          37.6505,
          33.9945,
          33.6238333,
          35.6685,
          20.434,
          38.831665,
          33.664,
          47.3735,
          51.4159,
          38.8378333,
          33.97,
          61.001,
          63.2752,
          33.1121667,
          19.066,
          19.1026667,
          38.8419991,
          47.881,
          17.896,
          51.8989,
          40.5075,
          36.8165,
          38.8235016,
          19.2701667,
          38.8421669,
          -22.4184,
          35.6626667,
          15.9428,
          -13.8633,
          35.6663333,
          35.6646667,
          33.4988333,
          63.587,
          37.6308333,
          53.8375,
          6.7657,
          38.7888333,
          -17.4773,
          37.4323333,
          38.6777,
          38.8371658,
          36.6547,
          -35.2981,
          40.2026667,
          63.0711,
          17.7035,
          36.1016667,
          50.7539,
          63.0607,
          -6.6316,
          36.1406667,
          61.1207,
          38.8211667,
          61.2081,
          61.2866,
          18.4022,
          64.7173,
          37.3765,
          53.4624,
          51.2908,
          38.7076667,
          62.098,
          11.0273,
          38.7495,
          51.8067,
          36.0838333,
          19.368,
          38.8011667,
          36.839,
          44.4451,
          36.1025,
          46.1491667,
          38.8255,
          35.9395,
          38.7859993,
          -7.6919,
          33.9976667,
          1.031,
          61.5597,
          -21.3022,
          -44.4548,
          -56.1218,
          38.9413333,
          51.806,
          62.972,
          53.4979,
          38.5331,
          33.9403333,
          44.5945,
          37.6355,
          44.6031667,
          40.3171,
          51.053,
          4.6918,
          62.0312,
          51.262,
          38.8093333,
          38.8413315,
          33.8006667,
          38.8250008,
          63.3351,
          51.8047,
          61.8389,
          19.054,
          62.6902,
          36.13,
          40.0981,
          54.499,
          41.7976667,
          38.8173332,
          51.476,
          38.0906,
          38.8253333,
          38.8271667,
          38.6713333,
          38.8246667,
          33.9708333,
          39.6388,
          33.7155,
          37.6016667,
          38.8294983,
          39.1677,
          -18.4394,
          33.3261667,
          38.8378334,
          38.8143349,
          33.6318333,
          38.8404999,
          51.796,
          39.3978,
          39.697,
          41.9117,
          36.6035,
          38.8233333,
          38.8263321,
          33.3561667,
          38.0311667,
          38.7901649,
          39.4263,
          -44.617,
          28.58,
          34.0183333,
          33.386,
          38.8193321,
          38.8676667,
          36.1335,
          33.964,
          -28.4669,
          39.4279,
          39.0091667,
          34.3655,
          33.7103333,
          39.4344,
          36.044,
          36.0626667,
          36.7333,
          36.1303333,
          62.9578,
          33.7053333,
          38.81,
          36.8932,
          -44.6449,
          42.1301667,
          40.2976667,
          33.0833,
          3.4262,
          38.824501,
          47.5521667,
          33.3461667,
          60.9743,
          37.258,
          33.9291667,
          37.1692,
          61.9508,
          52.074,
          37.5196667,
          37.4496,
          34.2061667,
          37.5208333,
          39.9083333,
          61.4423,
          35.5751667,
          37.6336667,
          33.4846667,
          37.5188333,
          -6.9955,
          38.8118324,
          38.8328323,
          38.8273333,
          44.7421667,
          34.3006667,
          38.7626648,
          38.8136673,
          37.6083333,
          -11.0957,
          38.8345,
          47.8913,
          47.931,
          37.6128333,
          62.9194,
          37.601,
          38.8256683,
          37.0014,
          61.805,
          38.0405,
          38.8214989,
          61.5837,
          36.0483333,
          38.831,
          33.225,
          19.2761667,
          19.324,
          38.8286667,
          38.8370018,
          38.8336678,
          40.2953333,
          42.1251667,
          19.1486,
          53.695,
          -6.2115,
          33.3876667,
          60.6054,
          52.43,
          33.4625,
          63.236,
          46.0926667,
          38.8320007,
          19.3246667,
          60.0872,
          38.8216667,
          44.408,
          -18.4965,
          19.0868
         ],
         "legendgroup": "",
         "lon": [
          -116.7776667,
          -151.6459,
          -150.0165,
          -150.8276,
          -71.621,
          -122.7839966,
          -118.8948333,
          -116.562,
          -118.4646,
          -176.8207,
          -167.3021,
          128.3539,
          -123.1971667,
          -118.4594,
          -66.1455,
          -115.6021667,
          -95.659,
          -116.1108,
          -118.8601667,
          -115.3121667,
          -122.7453333,
          -118.3738333,
          -122.7716675,
          -122.8146667,
          167.2381,
          -118.4346,
          -121.7506667,
          -116.7493333,
          -118.4288333,
          -122.7926636,
          -118.4437,
          -122.813,
          -116.4721667,
          -118.8945,
          -118.8963333,
          -118.8876667,
          -13.4962,
          -146.8735,
          -118.8953333,
          -147.7955,
          -122.8209991,
          -122.8188324,
          -167.4455,
          -122.8241667,
          -116.1058,
          -147.5138,
          130.0048,
          -122.8105011,
          -116.124,
          129.4565,
          -121.167,
          -118.5577,
          97.0082,
          -115.2873333,
          -117.8313333,
          -118.552,
          -150.3825,
          -148.1248,
          -155.7538333,
          -122.767334,
          -122.8233337,
          -122.6578333,
          -122.7476667,
          -116.121,
          -122.7011642,
          -122.8131638,
          -121.1118333,
          -118.456,
          -161.5012,
          -116.4878333,
          -117.3821,
          -152.4647,
          -118.8956667,
          95.7415,
          -149.9935,
          -117.8488333,
          -122.774498,
          -118.8728333,
          -121.1261667,
          -121.3455,
          -149.9855,
          -118.4598333,
          -74.2878333,
          -146.3497,
          -119.7707,
          -122.7955017,
          -118.4573333,
          -141.4079,
          -119.0398333,
          -122.784668,
          -119.7811,
          -119.056,
          -119.0923333,
          -119.1896667,
          -116.7931667,
          -116.6906667,
          -118.4611667,
          145.3275,
          -122.8021698,
          -116.7776667,
          -122.681,
          -177.598,
          -122.838,
          -116.823,
          -151.3616,
          -151.2767,
          -115.574,
          -155.4453333,
          -155.4556667,
          -122.840332,
          -123.108,
          -67.1331,
          82.0733,
          -121.6118333,
          -121.5431667,
          -122.7906647,
          -155.2123333,
          -122.8031693,
          -66.1327,
          -120.363,
          -98.739,
          167.249,
          -118.4608333,
          -118.469,
          -116.4686667,
          -147.2638,
          -118.8595,
          -164.2881,
          127.3952,
          -122.7631667,
          167.8106,
          -118.6128333,
          -119.5894,
          -122.8078308,
          140.9389,
          -179.0072,
          -121.3796667,
          -151.594,
          -65.6585,
          -117.8521667,
          -172.839,
          -151.5214,
          147.6208,
          -118.1026667,
          -152.2038,
          -122.7661667,
          -152.2756,
          -145.4025,
          -67.363,
          -148.5318,
          -122.1821667,
          -165.0999,
          -175.2776,
          -122.3721667,
          -150.3176,
          -86.7714,
          -122.69,
          -178.0581,
          -117.868,
          145.2333,
          -122.815,
          -112.409,
          -112.8475,
          -117.8653333,
          -122.6526667,
          -122.805,
          -117.7401667,
          -122.7528305,
          127.9629,
          -116.8258333,
          126.1909,
          -141.0807,
          -68.0824,
          -82.0262,
          -27.6253,
          -122.9906667,
          -178.052,
          -150.3543,
          -165.1454,
          -118.4256,
          -116.64,
          -110.7243333,
          -119.028,
          -110.7146667,
          -119.7513,
          -179.688,
          95.1453,
          -150.6711,
          -175.278,
          -122.7971667,
          -122.8410034,
          -117.8335,
          -122.8028336,
          -149.0546,
          -178.0522,
          -151.5844,
          -67.7055,
          -150.3674,
          -118.0621667,
          -119.6578,
          -162.287,
          -112.7375,
          -122.8273315,
          -178.148,
          -118.8525,
          -122.7978333,
          -122.8031667,
          -122.3998333,
          -122.798,
          -116.8005,
          -119.8596,
          -116.7256667,
          -119.0028333,
          -122.8168335,
          -119.6272,
          -177.919,
          -116.377,
          -122.8098297,
          -122.8201675,
          -116.719,
          -122.8121643,
          -178.0487,
          -120.1771,
          -123.4368333,
          137.5205,
          -121.2178333,
          -122.7916667,
          -122.8028336,
          -116.7185,
          -122.3795,
          -122.7624969,
          -120.2914,
          37.4119,
          54.314,
          -116.8913333,
          -116.4015,
          -122.8031693,
          -122.975,
          -118.0681667,
          -116.676,
          -71.3698,
          -120.2838,
          -111.4801667,
          -116.9013333,
          -116.8288333,
          -120.2826,
          -120.6238333,
          -120.6651667,
          -116.2934,
          -118.0658333,
          -150.2372,
          -116.8355,
          -122.7395,
          -116.7354,
          -15.456,
          -112.529,
          -123.622,
          139.4782,
          126.7562,
          -122.8069992,
          -122.376,
          -116.3398333,
          -150.8519,
          -122.1718333,
          -116.9896667,
          -116.2841,
          -152.4661,
          -167.004,
          -118.8248333,
          -116.9816,
          -117.5881667,
          -118.8248333,
          -123.5745,
          -151.6602,
          -92.2601667,
          -119.3518333,
          -116.4928333,
          -118.8255,
          127.7639,
          -122.8141632,
          -122.803833,
          -122.805,
          -111.2093333,
          -118.5758333,
          -122.7320023,
          -122.7958298,
          -119.3588333,
          165.2649,
          -122.8033333,
          -114.7478,
          -114.9191,
          -119.3536667,
          -150.8947,
          -119.3356667,
          -122.8105011,
          -115.9912,
          -151.3111,
          -118.0714,
          -122.8248367,
          -141.1399,
          -120.6138333,
          -122.7708333,
          -116.0813333,
          -155.4715,
          -155.1316667,
          -122.817337,
          -122.8016663,
          -122.8031693,
          -121.5533333,
          -112.5171667,
          120.5772,
          -162.828,
          152.821,
          -116.3898333,
          -152.0889,
          -167.878,
          -116.4728333,
          -144.7523,
          -122.5188333,
          -122.7776642,
          -155.0353333,
          -153.0185,
          -122.8435,
          -122.7498333,
          -175.5282,
          120.2389
         ],
         "marker": {
          "color": "#636efa",
          "size": [
           1.29,
           1.1,
           1.2,
           1.4,
           4,
           0.53,
           0.7,
           0.47,
           0.6,
           4.2,
           1.8,
           4.2,
           0.64,
           0.3,
           2.7,
           0.3,
           4,
           0.3,
           0.35,
           1.88,
           1.24,
           0.68,
           0.52,
           1.05,
           4.6,
           0.8,
           0.33,
           0.53,
           2.51,
           0.54,
           0.4,
           1.42,
           0.45,
           0.67,
           0.34,
           0.13,
           4.4,
           1.8,
           0.6,
           1.9,
           0.57,
           0.46,
           2.4,
           1.3,
           1.29,
           0.5,
           4,
           0.59,
           1.1,
           4.7,
           1.4,
           1.1,
           4.5,
           1.98,
           0.08,
           1.6,
           1.9,
           1.9,
           1.32,
           0.87,
           0.52,
           0.71,
           1.45,
           0.97,
           0.47,
           0.63,
           1.63,
           1.02,
           2.1,
           0.45,
           1.29,
           2.1,
           0.01,
           4.3,
           1.9,
           0.13,
           0.28,
           0.07,
           0.66,
           0.84,
           1.4,
           1.26,
           1.88,
           1.9,
           0.3,
           0.52,
           0.68,
           1.3,
           0.56,
           0.53,
           0.2,
           0.34,
           0.37,
           0.81,
           1.44,
           0.35,
           1.1,
           4.7,
           0.85,
           0.05,
           1.43,
           3.6,
           1.98,
           0.93,
           1.6,
           1.4,
           1.22,
           1.92,
           1.97,
           1.03,
           0.19,
           1.4,
           4.6,
           0.51,
           1.03,
           0.53,
           1.26,
           0.57,
           4.9,
           1.03,
           4.2,
           6.5,
           0.96,
           3.02,
           0.4,
           2.1,
           0.12,
           2.3,
           4.3,
           1.31,
           4.6,
           0.73,
           0.6,
           0.68,
           4.9,
           4.9,
           1.42,
           1.3,
           2.2,
           0.07,
           2.5,
           1.6,
           4,
           0.52,
           0.3,
           1.38,
           0.4,
           1.7,
           2.5,
           1.7,
           0.36,
           2.4,
           1.8,
           0.93,
           1.2,
           4.6,
           0.43,
           1.8,
           0.38,
           4.1,
           1.25,
           1.79,
           1.4,
           0.75,
           0.43,
           0.27,
           0.16,
           0.87,
           4.2,
           0.26,
           4.1,
           1.4,
           4,
           4.6,
           4.4,
           1.14,
           1.7,
           1.4,
           2.5,
           1.29,
           0.72,
           1.28,
           0.1,
           1.79,
           0.3,
           2.6,
           4,
           1.3,
           2.9,
           1.99,
           0.55,
           1.36,
           0.73,
           1.8,
           1.9,
           1.8,
           3.2,
           1.5,
           0.49,
           0.7,
           2.6,
           2.11,
           0.9,
           2.5,
           1.1,
           1.3,
           0.23,
           1.85,
           1.58,
           1.11,
           0.5,
           0.49,
           0.12,
           0.56,
           0.7,
           4.6,
           0.39,
           0.07,
           0.18,
           0.47,
           0.9,
           1.8,
           0.8,
           1.2,
           4.9,
           0.76,
           0.31,
           0.55,
           0.72,
           0.73,
           0.52,
           0.8,
           4.3,
           4,
           0.79,
           1.36,
           0.9,
           1.12,
           1.05,
           0.89,
           4.5,
           0.9,
           1.47,
           1.25,
           0.64,
           0.4,
           0.37,
           0.66,
           0.1,
           0.59,
           2.3,
           1.23,
           1.34,
           0.5,
           4.7,
           2.92,
           2.12,
           4.1,
           4.1,
           0.89,
           1.03,
           0.82,
           1.4,
           0.36,
           1.03,
           0.9,
           1.6,
           2.9,
           0.57,
           0.9,
           1.01,
           0.4,
           1.05,
           1.8,
           1.9,
           1.32,
           0.39,
           0.69,
           4.1,
           0.43,
           0.43,
           1.46,
           0.7,
           1.42,
           0.59,
           0.75,
           1.13,
           4.1,
           0.45,
           1.9,
           1.6,
           1.14,
           1.6,
           1.15,
           0.56,
           0.6,
           1.6,
           1.1,
           1.01,
           2.3,
           1.26,
           0.23,
           2.4,
           2.48,
           0.79,
           0.45,
           0.43,
           1.05,
           0.55,
           2.19,
           4.3,
           2.9,
           4.2,
           0.58,
           1.8,
           2.3,
           0.1,
           1.3,
           0.22,
           1.07,
           2.08,
           1.2,
           0.57,
           2.2,
           4.5,
           5.1
          ],
          "sizemode": "area",
          "sizeref": 0.01625
         },
         "mode": "markers",
         "name": "",
         "showlegend": false,
         "subplot": "mapbox",
         "type": "scattermapbox"
        }
       ],
       "layout": {
        "legend": {
         "itemsizing": "constant",
         "tracegroupgap": 0
        },
        "mapbox": {
         "center": {
          "lat": 35.58056458374232,
          "lon": -104.55532889325156
         },
         "domain": {
          "x": [
           0,
           1
          ],
          "y": [
           0,
           1
          ]
         },
         "zoom": 8
        },
        "margin": {
         "t": 60
        },
        "template": {
         "data": {
          "bar": [
           {
            "error_x": {
             "color": "#2a3f5f"
            },
            "error_y": {
             "color": "#2a3f5f"
            },
            "marker": {
             "line": {
              "color": "#E5ECF6",
              "width": 0.5
             },
             "pattern": {
              "fillmode": "overlay",
              "size": 10,
              "solidity": 0.2
             }
            },
            "type": "bar"
           }
          ],
          "barpolar": [
           {
            "marker": {
             "line": {
              "color": "#E5ECF6",
              "width": 0.5
             },
             "pattern": {
              "fillmode": "overlay",
              "size": 10,
              "solidity": 0.2
             }
            },
            "type": "barpolar"
           }
          ],
          "carpet": [
           {
            "aaxis": {
             "endlinecolor": "#2a3f5f",
             "gridcolor": "white",
             "linecolor": "white",
             "minorgridcolor": "white",
             "startlinecolor": "#2a3f5f"
            },
            "baxis": {
             "endlinecolor": "#2a3f5f",
             "gridcolor": "white",
             "linecolor": "white",
             "minorgridcolor": "white",
             "startlinecolor": "#2a3f5f"
            },
            "type": "carpet"
           }
          ],
          "choropleth": [
           {
            "colorbar": {
             "outlinewidth": 0,
             "ticks": ""
            },
            "type": "choropleth"
           }
          ],
          "contour": [
           {
            "colorbar": {
             "outlinewidth": 0,
             "ticks": ""
            },
            "colorscale": [
             [
              0,
              "#0d0887"
             ],
             [
              0.1111111111111111,
              "#46039f"
             ],
             [
              0.2222222222222222,
              "#7201a8"
             ],
             [
              0.3333333333333333,
              "#9c179e"
             ],
             [
              0.4444444444444444,
              "#bd3786"
             ],
             [
              0.5555555555555556,
              "#d8576b"
             ],
             [
              0.6666666666666666,
              "#ed7953"
             ],
             [
              0.7777777777777778,
              "#fb9f3a"
             ],
             [
              0.8888888888888888,
              "#fdca26"
             ],
             [
              1,
              "#f0f921"
             ]
            ],
            "type": "contour"
           }
          ],
          "contourcarpet": [
           {
            "colorbar": {
             "outlinewidth": 0,
             "ticks": ""
            },
            "type": "contourcarpet"
           }
          ],
          "heatmap": [
           {
            "colorbar": {
             "outlinewidth": 0,
             "ticks": ""
            },
            "colorscale": [
             [
              0,
              "#0d0887"
             ],
             [
              0.1111111111111111,
              "#46039f"
             ],
             [
              0.2222222222222222,
              "#7201a8"
             ],
             [
              0.3333333333333333,
              "#9c179e"
             ],
             [
              0.4444444444444444,
              "#bd3786"
             ],
             [
              0.5555555555555556,
              "#d8576b"
             ],
             [
              0.6666666666666666,
              "#ed7953"
             ],
             [
              0.7777777777777778,
              "#fb9f3a"
             ],
             [
              0.8888888888888888,
              "#fdca26"
             ],
             [
              1,
              "#f0f921"
             ]
            ],
            "type": "heatmap"
           }
          ],
          "heatmapgl": [
           {
            "colorbar": {
             "outlinewidth": 0,
             "ticks": ""
            },
            "colorscale": [
             [
              0,
              "#0d0887"
             ],
             [
              0.1111111111111111,
              "#46039f"
             ],
             [
              0.2222222222222222,
              "#7201a8"
             ],
             [
              0.3333333333333333,
              "#9c179e"
             ],
             [
              0.4444444444444444,
              "#bd3786"
             ],
             [
              0.5555555555555556,
              "#d8576b"
             ],
             [
              0.6666666666666666,
              "#ed7953"
             ],
             [
              0.7777777777777778,
              "#fb9f3a"
             ],
             [
              0.8888888888888888,
              "#fdca26"
             ],
             [
              1,
              "#f0f921"
             ]
            ],
            "type": "heatmapgl"
           }
          ],
          "histogram": [
           {
            "marker": {
             "pattern": {
              "fillmode": "overlay",
              "size": 10,
              "solidity": 0.2
             }
            },
            "type": "histogram"
           }
          ],
          "histogram2d": [
           {
            "colorbar": {
             "outlinewidth": 0,
             "ticks": ""
            },
            "colorscale": [
             [
              0,
              "#0d0887"
             ],
             [
              0.1111111111111111,
              "#46039f"
             ],
             [
              0.2222222222222222,
              "#7201a8"
             ],
             [
              0.3333333333333333,
              "#9c179e"
             ],
             [
              0.4444444444444444,
              "#bd3786"
             ],
             [
              0.5555555555555556,
              "#d8576b"
             ],
             [
              0.6666666666666666,
              "#ed7953"
             ],
             [
              0.7777777777777778,
              "#fb9f3a"
             ],
             [
              0.8888888888888888,
              "#fdca26"
             ],
             [
              1,
              "#f0f921"
             ]
            ],
            "type": "histogram2d"
           }
          ],
          "histogram2dcontour": [
           {
            "colorbar": {
             "outlinewidth": 0,
             "ticks": ""
            },
            "colorscale": [
             [
              0,
              "#0d0887"
             ],
             [
              0.1111111111111111,
              "#46039f"
             ],
             [
              0.2222222222222222,
              "#7201a8"
             ],
             [
              0.3333333333333333,
              "#9c179e"
             ],
             [
              0.4444444444444444,
              "#bd3786"
             ],
             [
              0.5555555555555556,
              "#d8576b"
             ],
             [
              0.6666666666666666,
              "#ed7953"
             ],
             [
              0.7777777777777778,
              "#fb9f3a"
             ],
             [
              0.8888888888888888,
              "#fdca26"
             ],
             [
              1,
              "#f0f921"
             ]
            ],
            "type": "histogram2dcontour"
           }
          ],
          "mesh3d": [
           {
            "colorbar": {
             "outlinewidth": 0,
             "ticks": ""
            },
            "type": "mesh3d"
           }
          ],
          "parcoords": [
           {
            "line": {
             "colorbar": {
              "outlinewidth": 0,
              "ticks": ""
             }
            },
            "type": "parcoords"
           }
          ],
          "pie": [
           {
            "automargin": true,
            "type": "pie"
           }
          ],
          "scatter": [
           {
            "marker": {
             "colorbar": {
              "outlinewidth": 0,
              "ticks": ""
             }
            },
            "type": "scatter"
           }
          ],
          "scatter3d": [
           {
            "line": {
             "colorbar": {
              "outlinewidth": 0,
              "ticks": ""
             }
            },
            "marker": {
             "colorbar": {
              "outlinewidth": 0,
              "ticks": ""
             }
            },
            "type": "scatter3d"
           }
          ],
          "scattercarpet": [
           {
            "marker": {
             "colorbar": {
              "outlinewidth": 0,
              "ticks": ""
             }
            },
            "type": "scattercarpet"
           }
          ],
          "scattergeo": [
           {
            "marker": {
             "colorbar": {
              "outlinewidth": 0,
              "ticks": ""
             }
            },
            "type": "scattergeo"
           }
          ],
          "scattergl": [
           {
            "marker": {
             "colorbar": {
              "outlinewidth": 0,
              "ticks": ""
             }
            },
            "type": "scattergl"
           }
          ],
          "scattermapbox": [
           {
            "marker": {
             "colorbar": {
              "outlinewidth": 0,
              "ticks": ""
             }
            },
            "type": "scattermapbox"
           }
          ],
          "scatterpolar": [
           {
            "marker": {
             "colorbar": {
              "outlinewidth": 0,
              "ticks": ""
             }
            },
            "type": "scatterpolar"
           }
          ],
          "scatterpolargl": [
           {
            "marker": {
             "colorbar": {
              "outlinewidth": 0,
              "ticks": ""
             }
            },
            "type": "scatterpolargl"
           }
          ],
          "scatterternary": [
           {
            "marker": {
             "colorbar": {
              "outlinewidth": 0,
              "ticks": ""
             }
            },
            "type": "scatterternary"
           }
          ],
          "surface": [
           {
            "colorbar": {
             "outlinewidth": 0,
             "ticks": ""
            },
            "colorscale": [
             [
              0,
              "#0d0887"
             ],
             [
              0.1111111111111111,
              "#46039f"
             ],
             [
              0.2222222222222222,
              "#7201a8"
             ],
             [
              0.3333333333333333,
              "#9c179e"
             ],
             [
              0.4444444444444444,
              "#bd3786"
             ],
             [
              0.5555555555555556,
              "#d8576b"
             ],
             [
              0.6666666666666666,
              "#ed7953"
             ],
             [
              0.7777777777777778,
              "#fb9f3a"
             ],
             [
              0.8888888888888888,
              "#fdca26"
             ],
             [
              1,
              "#f0f921"
             ]
            ],
            "type": "surface"
           }
          ],
          "table": [
           {
            "cells": {
             "fill": {
              "color": "#EBF0F8"
             },
             "line": {
              "color": "white"
             }
            },
            "header": {
             "fill": {
              "color": "#C8D4E3"
             },
             "line": {
              "color": "white"
             }
            },
            "type": "table"
           }
          ]
         },
         "layout": {
          "annotationdefaults": {
           "arrowcolor": "#2a3f5f",
           "arrowhead": 0,
           "arrowwidth": 1
          },
          "autotypenumbers": "strict",
          "coloraxis": {
           "colorbar": {
            "outlinewidth": 0,
            "ticks": ""
           }
          },
          "colorscale": {
           "diverging": [
            [
             0,
             "#8e0152"
            ],
            [
             0.1,
             "#c51b7d"
            ],
            [
             0.2,
             "#de77ae"
            ],
            [
             0.3,
             "#f1b6da"
            ],
            [
             0.4,
             "#fde0ef"
            ],
            [
             0.5,
             "#f7f7f7"
            ],
            [
             0.6,
             "#e6f5d0"
            ],
            [
             0.7,
             "#b8e186"
            ],
            [
             0.8,
             "#7fbc41"
            ],
            [
             0.9,
             "#4d9221"
            ],
            [
             1,
             "#276419"
            ]
           ],
           "sequential": [
            [
             0,
             "#0d0887"
            ],
            [
             0.1111111111111111,
             "#46039f"
            ],
            [
             0.2222222222222222,
             "#7201a8"
            ],
            [
             0.3333333333333333,
             "#9c179e"
            ],
            [
             0.4444444444444444,
             "#bd3786"
            ],
            [
             0.5555555555555556,
             "#d8576b"
            ],
            [
             0.6666666666666666,
             "#ed7953"
            ],
            [
             0.7777777777777778,
             "#fb9f3a"
            ],
            [
             0.8888888888888888,
             "#fdca26"
            ],
            [
             1,
             "#f0f921"
            ]
           ],
           "sequentialminus": [
            [
             0,
             "#0d0887"
            ],
            [
             0.1111111111111111,
             "#46039f"
            ],
            [
             0.2222222222222222,
             "#7201a8"
            ],
            [
             0.3333333333333333,
             "#9c179e"
            ],
            [
             0.4444444444444444,
             "#bd3786"
            ],
            [
             0.5555555555555556,
             "#d8576b"
            ],
            [
             0.6666666666666666,
             "#ed7953"
            ],
            [
             0.7777777777777778,
             "#fb9f3a"
            ],
            [
             0.8888888888888888,
             "#fdca26"
            ],
            [
             1,
             "#f0f921"
            ]
           ]
          },
          "colorway": [
           "#636efa",
           "#EF553B",
           "#00cc96",
           "#ab63fa",
           "#FFA15A",
           "#19d3f3",
           "#FF6692",
           "#B6E880",
           "#FF97FF",
           "#FECB52"
          ],
          "font": {
           "color": "#2a3f5f"
          },
          "geo": {
           "bgcolor": "white",
           "lakecolor": "white",
           "landcolor": "#E5ECF6",
           "showlakes": true,
           "showland": true,
           "subunitcolor": "white"
          },
          "hoverlabel": {
           "align": "left"
          },
          "hovermode": "closest",
          "mapbox": {
           "style": "light"
          },
          "paper_bgcolor": "white",
          "plot_bgcolor": "#E5ECF6",
          "polar": {
           "angularaxis": {
            "gridcolor": "white",
            "linecolor": "white",
            "ticks": ""
           },
           "bgcolor": "#E5ECF6",
           "radialaxis": {
            "gridcolor": "white",
            "linecolor": "white",
            "ticks": ""
           }
          },
          "scene": {
           "xaxis": {
            "backgroundcolor": "#E5ECF6",
            "gridcolor": "white",
            "gridwidth": 2,
            "linecolor": "white",
            "showbackground": true,
            "ticks": "",
            "zerolinecolor": "white"
           },
           "yaxis": {
            "backgroundcolor": "#E5ECF6",
            "gridcolor": "white",
            "gridwidth": 2,
            "linecolor": "white",
            "showbackground": true,
            "ticks": "",
            "zerolinecolor": "white"
           },
           "zaxis": {
            "backgroundcolor": "#E5ECF6",
            "gridcolor": "white",
            "gridwidth": 2,
            "linecolor": "white",
            "showbackground": true,
            "ticks": "",
            "zerolinecolor": "white"
           }
          },
          "shapedefaults": {
           "line": {
            "color": "#2a3f5f"
           }
          },
          "ternary": {
           "aaxis": {
            "gridcolor": "white",
            "linecolor": "white",
            "ticks": ""
           },
           "baxis": {
            "gridcolor": "white",
            "linecolor": "white",
            "ticks": ""
           },
           "bgcolor": "#E5ECF6",
           "caxis": {
            "gridcolor": "white",
            "linecolor": "white",
            "ticks": ""
           }
          },
          "title": {
           "x": 0.05
          },
          "xaxis": {
           "automargin": true,
           "gridcolor": "white",
           "linecolor": "white",
           "ticks": "",
           "title": {
            "standoff": 15
           },
           "zerolinecolor": "white",
           "zerolinewidth": 2
          },
          "yaxis": {
           "automargin": true,
           "gridcolor": "white",
           "linecolor": "white",
           "ticks": "",
           "title": {
            "standoff": 15
           },
           "zerolinecolor": "white",
           "zerolinewidth": 2
          }
         }
        }
       }
      }
     },
     "metadata": {}
    }
   ],
   "source": [
    "fig = px.scatter_mapbox(df, lat='lat',lon='lon', size='mag2')\n",
    "fig.show()"
   ]
  },
  {
   "cell_type": "code",
   "execution_count": 38,
   "metadata": {},
   "outputs": [
    {
     "output_type": "display_data",
     "data": {
      "application/vnd.plotly.v1+json": {
       "config": {
        "plotlyServerURL": "https://plot.ly"
       },
       "data": [
        {
         "hovertemplate": "mag2=%{marker.size}<br>lat=%{lat}<br>lon=%{lon}<extra></extra>",
         "lat": [
          33.6633333,
          63.102,
          61.4581,
          62.7884,
          -29.888,
          38.8071671,
          37.6433333,
          33.5175,
          38.5678,
          -23.9576,
          53.3823,
          -6.1578,
          48.4256667,
          38.5819,
          18.3276,
          33.1823333,
          17.7689,
          36.6771,
          37.5738333,
          32.2258333,
          38.7745,
          37.3576667,
          38.8033333,
          38.8096667,
          -13.7511,
          38.5729,
          46.8501667,
          33.7068333,
          37.6036667,
          38.8081665,
          38.5754,
          38.8013333,
          33.5045,
          37.6426667,
          37.6428333,
          37.6308333,
          -45.9283,
          61.2575,
          37.6445,
          60.4997,
          38.8436661,
          38.8203316,
          53.4359,
          38.8173333,
          36.6753,
          64.8102,
          -6.4984,
          38.8221664,
          33.7718333,
          -3.0101,
          40.2123333,
          38.3097,
          0.9787,
          32.2136667,
          36.0906667,
          38.3078,
          63.2785,
          60.0342,
          19.52,
          38.8198318,
          38.8009987,
          47.373,
          38.8318333,
          33.7731667,
          38.758667,
          38.8101654,
          40.2136667,
          35.668,
          54.8422,
          33.4721667,
          37.1537,
          61.1638,
          37.6465,
          4.5344,
          60.2196,
          36.0983333,
          38.8028336,
          37.552,
          36.611,
          40.3201667,
          61.6796,
          35.6771667,
          45.5563333,
          61.6231,
          40.3113,
          38.8188324,
          35.6641667,
          62.1779,
          37.6331667,
          38.7989998,
          40.2989,
          37.6333333,
          37.6315,
          37.6505,
          33.9945,
          33.6238333,
          35.6685,
          20.434,
          38.831665,
          33.664,
          47.3735,
          51.4159,
          38.8378333,
          33.97,
          61.001,
          63.2752,
          33.1121667,
          19.066,
          19.1026667,
          38.8419991,
          47.881,
          17.896,
          51.8989,
          40.5075,
          36.8165,
          38.8235016,
          19.2701667,
          38.8421669,
          -22.4184,
          35.6626667,
          15.9428,
          -13.8633,
          35.6663333,
          35.6646667,
          33.4988333,
          63.587,
          37.6308333,
          53.8375,
          6.7657,
          38.7888333,
          -17.4773,
          37.4323333,
          38.6777,
          38.8371658,
          36.6547,
          -35.2981,
          40.2026667,
          63.0711,
          17.7035,
          36.1016667,
          50.7539,
          63.0607,
          -6.6316,
          36.1406667,
          61.1207,
          38.8211667,
          61.2081,
          61.2866,
          18.4022,
          64.7173,
          37.3765,
          53.4624,
          51.2908,
          38.7076667,
          62.098,
          11.0273,
          38.7495,
          51.8067,
          36.0838333,
          19.368,
          38.8011667,
          36.839,
          44.4451,
          36.1025,
          46.1491667,
          38.8255,
          35.9395,
          38.7859993,
          -7.6919,
          33.9976667,
          1.031,
          61.5597,
          -21.3022,
          -44.4548,
          -56.1218,
          38.9413333,
          51.806,
          62.972,
          53.4979,
          38.5331,
          33.9403333,
          44.5945,
          37.6355,
          44.6031667,
          40.3171,
          51.053,
          4.6918,
          62.0312,
          51.262,
          38.8093333,
          38.8413315,
          33.8006667,
          38.8250008,
          63.3351,
          51.8047,
          61.8389,
          19.054,
          62.6902,
          36.13,
          40.0981,
          54.499,
          41.7976667,
          38.8173332,
          51.476,
          38.0906,
          38.8253333,
          38.8271667,
          38.6713333,
          38.8246667,
          33.9708333,
          39.6388,
          33.7155,
          37.6016667,
          38.8294983,
          39.1677,
          -18.4394,
          33.3261667,
          38.8378334,
          38.8143349,
          33.6318333,
          38.8404999,
          51.796,
          39.3978,
          39.697,
          41.9117,
          36.6035,
          38.8233333,
          38.8263321,
          33.3561667,
          38.0311667,
          38.7901649,
          39.4263,
          -44.617,
          28.58,
          34.0183333,
          33.386,
          38.8193321,
          38.8676667,
          36.1335,
          33.964,
          -28.4669,
          39.4279,
          39.0091667,
          34.3655,
          33.7103333,
          39.4344,
          36.044,
          36.0626667,
          36.7333,
          36.1303333,
          62.9578,
          33.7053333,
          38.81,
          36.8932,
          -44.6449,
          42.1301667,
          40.2976667,
          33.0833,
          3.4262,
          38.824501,
          47.5521667,
          33.3461667,
          60.9743,
          37.258,
          33.9291667,
          37.1692,
          61.9508,
          52.074,
          37.5196667,
          37.4496,
          34.2061667,
          37.5208333,
          39.9083333,
          61.4423,
          35.5751667,
          37.6336667,
          33.4846667,
          37.5188333,
          -6.9955,
          38.8118324,
          38.8328323,
          38.8273333,
          44.7421667,
          34.3006667,
          38.7626648,
          38.8136673,
          37.6083333,
          -11.0957,
          38.8345,
          47.8913,
          47.931,
          37.6128333,
          62.9194,
          37.601,
          38.8256683,
          37.0014,
          61.805,
          38.0405,
          38.8214989,
          61.5837,
          36.0483333,
          38.831,
          33.225,
          19.2761667,
          19.324,
          38.8286667,
          38.8370018,
          38.8336678,
          40.2953333,
          42.1251667,
          19.1486,
          53.695,
          -6.2115,
          33.3876667,
          60.6054,
          52.43,
          33.4625,
          63.236,
          46.0926667,
          38.8320007,
          19.3246667,
          60.0872,
          38.8216667,
          44.408,
          -18.4965,
          19.0868
         ],
         "legendgroup": "",
         "lon": [
          -116.7776667,
          -151.6459,
          -150.0165,
          -150.8276,
          -71.621,
          -122.7839966,
          -118.8948333,
          -116.562,
          -118.4646,
          -176.8207,
          -167.3021,
          128.3539,
          -123.1971667,
          -118.4594,
          -66.1455,
          -115.6021667,
          -95.659,
          -116.1108,
          -118.8601667,
          -115.3121667,
          -122.7453333,
          -118.3738333,
          -122.7716675,
          -122.8146667,
          167.2381,
          -118.4346,
          -121.7506667,
          -116.7493333,
          -118.4288333,
          -122.7926636,
          -118.4437,
          -122.813,
          -116.4721667,
          -118.8945,
          -118.8963333,
          -118.8876667,
          -13.4962,
          -146.8735,
          -118.8953333,
          -147.7955,
          -122.8209991,
          -122.8188324,
          -167.4455,
          -122.8241667,
          -116.1058,
          -147.5138,
          130.0048,
          -122.8105011,
          -116.124,
          129.4565,
          -121.167,
          -118.5577,
          97.0082,
          -115.2873333,
          -117.8313333,
          -118.552,
          -150.3825,
          -148.1248,
          -155.7538333,
          -122.767334,
          -122.8233337,
          -122.6578333,
          -122.7476667,
          -116.121,
          -122.7011642,
          -122.8131638,
          -121.1118333,
          -118.456,
          -161.5012,
          -116.4878333,
          -117.3821,
          -152.4647,
          -118.8956667,
          95.7415,
          -149.9935,
          -117.8488333,
          -122.774498,
          -118.8728333,
          -121.1261667,
          -121.3455,
          -149.9855,
          -118.4598333,
          -74.2878333,
          -146.3497,
          -119.7707,
          -122.7955017,
          -118.4573333,
          -141.4079,
          -119.0398333,
          -122.784668,
          -119.7811,
          -119.056,
          -119.0923333,
          -119.1896667,
          -116.7931667,
          -116.6906667,
          -118.4611667,
          145.3275,
          -122.8021698,
          -116.7776667,
          -122.681,
          -177.598,
          -122.838,
          -116.823,
          -151.3616,
          -151.2767,
          -115.574,
          -155.4453333,
          -155.4556667,
          -122.840332,
          -123.108,
          -67.1331,
          82.0733,
          -121.6118333,
          -121.5431667,
          -122.7906647,
          -155.2123333,
          -122.8031693,
          -66.1327,
          -120.363,
          -98.739,
          167.249,
          -118.4608333,
          -118.469,
          -116.4686667,
          -147.2638,
          -118.8595,
          -164.2881,
          127.3952,
          -122.7631667,
          167.8106,
          -118.6128333,
          -119.5894,
          -122.8078308,
          140.9389,
          -179.0072,
          -121.3796667,
          -151.594,
          -65.6585,
          -117.8521667,
          -172.839,
          -151.5214,
          147.6208,
          -118.1026667,
          -152.2038,
          -122.7661667,
          -152.2756,
          -145.4025,
          -67.363,
          -148.5318,
          -122.1821667,
          -165.0999,
          -175.2776,
          -122.3721667,
          -150.3176,
          -86.7714,
          -122.69,
          -178.0581,
          -117.868,
          145.2333,
          -122.815,
          -112.409,
          -112.8475,
          -117.8653333,
          -122.6526667,
          -122.805,
          -117.7401667,
          -122.7528305,
          127.9629,
          -116.8258333,
          126.1909,
          -141.0807,
          -68.0824,
          -82.0262,
          -27.6253,
          -122.9906667,
          -178.052,
          -150.3543,
          -165.1454,
          -118.4256,
          -116.64,
          -110.7243333,
          -119.028,
          -110.7146667,
          -119.7513,
          -179.688,
          95.1453,
          -150.6711,
          -175.278,
          -122.7971667,
          -122.8410034,
          -117.8335,
          -122.8028336,
          -149.0546,
          -178.0522,
          -151.5844,
          -67.7055,
          -150.3674,
          -118.0621667,
          -119.6578,
          -162.287,
          -112.7375,
          -122.8273315,
          -178.148,
          -118.8525,
          -122.7978333,
          -122.8031667,
          -122.3998333,
          -122.798,
          -116.8005,
          -119.8596,
          -116.7256667,
          -119.0028333,
          -122.8168335,
          -119.6272,
          -177.919,
          -116.377,
          -122.8098297,
          -122.8201675,
          -116.719,
          -122.8121643,
          -178.0487,
          -120.1771,
          -123.4368333,
          137.5205,
          -121.2178333,
          -122.7916667,
          -122.8028336,
          -116.7185,
          -122.3795,
          -122.7624969,
          -120.2914,
          37.4119,
          54.314,
          -116.8913333,
          -116.4015,
          -122.8031693,
          -122.975,
          -118.0681667,
          -116.676,
          -71.3698,
          -120.2838,
          -111.4801667,
          -116.9013333,
          -116.8288333,
          -120.2826,
          -120.6238333,
          -120.6651667,
          -116.2934,
          -118.0658333,
          -150.2372,
          -116.8355,
          -122.7395,
          -116.7354,
          -15.456,
          -112.529,
          -123.622,
          139.4782,
          126.7562,
          -122.8069992,
          -122.376,
          -116.3398333,
          -150.8519,
          -122.1718333,
          -116.9896667,
          -116.2841,
          -152.4661,
          -167.004,
          -118.8248333,
          -116.9816,
          -117.5881667,
          -118.8248333,
          -123.5745,
          -151.6602,
          -92.2601667,
          -119.3518333,
          -116.4928333,
          -118.8255,
          127.7639,
          -122.8141632,
          -122.803833,
          -122.805,
          -111.2093333,
          -118.5758333,
          -122.7320023,
          -122.7958298,
          -119.3588333,
          165.2649,
          -122.8033333,
          -114.7478,
          -114.9191,
          -119.3536667,
          -150.8947,
          -119.3356667,
          -122.8105011,
          -115.9912,
          -151.3111,
          -118.0714,
          -122.8248367,
          -141.1399,
          -120.6138333,
          -122.7708333,
          -116.0813333,
          -155.4715,
          -155.1316667,
          -122.817337,
          -122.8016663,
          -122.8031693,
          -121.5533333,
          -112.5171667,
          120.5772,
          -162.828,
          152.821,
          -116.3898333,
          -152.0889,
          -167.878,
          -116.4728333,
          -144.7523,
          -122.5188333,
          -122.7776642,
          -155.0353333,
          -153.0185,
          -122.8435,
          -122.7498333,
          -175.5282,
          120.2389
         ],
         "marker": {
          "color": "#636efa",
          "size": [
           1.29,
           1.1,
           1.2,
           1.4,
           4,
           0.53,
           0.7,
           0.47,
           0.6,
           4.2,
           1.8,
           4.2,
           0.64,
           0.3,
           2.7,
           0.3,
           4,
           0.3,
           0.35,
           1.88,
           1.24,
           0.68,
           0.52,
           1.05,
           4.6,
           0.8,
           0.33,
           0.53,
           2.51,
           0.54,
           0.4,
           1.42,
           0.45,
           0.67,
           0.34,
           0.13,
           4.4,
           1.8,
           0.6,
           1.9,
           0.57,
           0.46,
           2.4,
           1.3,
           1.29,
           0.5,
           4,
           0.59,
           1.1,
           4.7,
           1.4,
           1.1,
           4.5,
           1.98,
           0.08,
           1.6,
           1.9,
           1.9,
           1.32,
           0.87,
           0.52,
           0.71,
           1.45,
           0.97,
           0.47,
           0.63,
           1.63,
           1.02,
           2.1,
           0.45,
           1.29,
           2.1,
           0.01,
           4.3,
           1.9,
           0.13,
           0.28,
           0.07,
           0.66,
           0.84,
           1.4,
           1.26,
           1.88,
           1.9,
           0.3,
           0.52,
           0.68,
           1.3,
           0.56,
           0.53,
           0.2,
           0.34,
           0.37,
           0.81,
           1.44,
           0.35,
           1.1,
           4.7,
           0.85,
           0.05,
           1.43,
           3.6,
           1.98,
           0.93,
           1.6,
           1.4,
           1.22,
           1.92,
           1.97,
           1.03,
           0.19,
           1.4,
           4.6,
           0.51,
           1.03,
           0.53,
           1.26,
           0.57,
           4.9,
           1.03,
           4.2,
           6.5,
           0.96,
           3.02,
           0.4,
           2.1,
           0.12,
           2.3,
           4.3,
           1.31,
           4.6,
           0.73,
           0.6,
           0.68,
           4.9,
           4.9,
           1.42,
           1.3,
           2.2,
           0.07,
           2.5,
           1.6,
           4,
           0.52,
           0.3,
           1.38,
           0.4,
           1.7,
           2.5,
           1.7,
           0.36,
           2.4,
           1.8,
           0.93,
           1.2,
           4.6,
           0.43,
           1.8,
           0.38,
           4.1,
           1.25,
           1.79,
           1.4,
           0.75,
           0.43,
           0.27,
           0.16,
           0.87,
           4.2,
           0.26,
           4.1,
           1.4,
           4,
           4.6,
           4.4,
           1.14,
           1.7,
           1.4,
           2.5,
           1.29,
           0.72,
           1.28,
           0.1,
           1.79,
           0.3,
           2.6,
           4,
           1.3,
           2.9,
           1.99,
           0.55,
           1.36,
           0.73,
           1.8,
           1.9,
           1.8,
           3.2,
           1.5,
           0.49,
           0.7,
           2.6,
           2.11,
           0.9,
           2.5,
           1.1,
           1.3,
           0.23,
           1.85,
           1.58,
           1.11,
           0.5,
           0.49,
           0.12,
           0.56,
           0.7,
           4.6,
           0.39,
           0.07,
           0.18,
           0.47,
           0.9,
           1.8,
           0.8,
           1.2,
           4.9,
           0.76,
           0.31,
           0.55,
           0.72,
           0.73,
           0.52,
           0.8,
           4.3,
           4,
           0.79,
           1.36,
           0.9,
           1.12,
           1.05,
           0.89,
           4.5,
           0.9,
           1.47,
           1.25,
           0.64,
           0.4,
           0.37,
           0.66,
           0.1,
           0.59,
           2.3,
           1.23,
           1.34,
           0.5,
           4.7,
           2.92,
           2.12,
           4.1,
           4.1,
           0.89,
           1.03,
           0.82,
           1.4,
           0.36,
           1.03,
           0.9,
           1.6,
           2.9,
           0.57,
           0.9,
           1.01,
           0.4,
           1.05,
           1.8,
           1.9,
           1.32,
           0.39,
           0.69,
           4.1,
           0.43,
           0.43,
           1.46,
           0.7,
           1.42,
           0.59,
           0.75,
           1.13,
           4.1,
           0.45,
           1.9,
           1.6,
           1.14,
           1.6,
           1.15,
           0.56,
           0.6,
           1.6,
           1.1,
           1.01,
           2.3,
           1.26,
           0.23,
           2.4,
           2.48,
           0.79,
           0.45,
           0.43,
           1.05,
           0.55,
           2.19,
           4.3,
           2.9,
           4.2,
           0.58,
           1.8,
           2.3,
           0.1,
           1.3,
           0.22,
           1.07,
           2.08,
           1.2,
           0.57,
           2.2,
           4.5,
           5.1
          ],
          "sizemode": "area",
          "sizeref": 0.01625
         },
         "mode": "markers",
         "name": "",
         "showlegend": false,
         "subplot": "mapbox",
         "type": "scattermapbox"
        }
       ],
       "layout": {
        "legend": {
         "itemsizing": "constant",
         "tracegroupgap": 0
        },
        "mapbox": {
         "center": {
          "lat": 35.58056458374232,
          "lon": -104.55532889325156
         },
         "domain": {
          "x": [
           0,
           1
          ],
          "y": [
           0,
           1
          ]
         },
         "style": "carto-positron",
         "zoom": 8
        },
        "margin": {
         "t": 60
        },
        "template": {
         "data": {
          "bar": [
           {
            "error_x": {
             "color": "#2a3f5f"
            },
            "error_y": {
             "color": "#2a3f5f"
            },
            "marker": {
             "line": {
              "color": "#E5ECF6",
              "width": 0.5
             },
             "pattern": {
              "fillmode": "overlay",
              "size": 10,
              "solidity": 0.2
             }
            },
            "type": "bar"
           }
          ],
          "barpolar": [
           {
            "marker": {
             "line": {
              "color": "#E5ECF6",
              "width": 0.5
             },
             "pattern": {
              "fillmode": "overlay",
              "size": 10,
              "solidity": 0.2
             }
            },
            "type": "barpolar"
           }
          ],
          "carpet": [
           {
            "aaxis": {
             "endlinecolor": "#2a3f5f",
             "gridcolor": "white",
             "linecolor": "white",
             "minorgridcolor": "white",
             "startlinecolor": "#2a3f5f"
            },
            "baxis": {
             "endlinecolor": "#2a3f5f",
             "gridcolor": "white",
             "linecolor": "white",
             "minorgridcolor": "white",
             "startlinecolor": "#2a3f5f"
            },
            "type": "carpet"
           }
          ],
          "choropleth": [
           {
            "colorbar": {
             "outlinewidth": 0,
             "ticks": ""
            },
            "type": "choropleth"
           }
          ],
          "contour": [
           {
            "colorbar": {
             "outlinewidth": 0,
             "ticks": ""
            },
            "colorscale": [
             [
              0,
              "#0d0887"
             ],
             [
              0.1111111111111111,
              "#46039f"
             ],
             [
              0.2222222222222222,
              "#7201a8"
             ],
             [
              0.3333333333333333,
              "#9c179e"
             ],
             [
              0.4444444444444444,
              "#bd3786"
             ],
             [
              0.5555555555555556,
              "#d8576b"
             ],
             [
              0.6666666666666666,
              "#ed7953"
             ],
             [
              0.7777777777777778,
              "#fb9f3a"
             ],
             [
              0.8888888888888888,
              "#fdca26"
             ],
             [
              1,
              "#f0f921"
             ]
            ],
            "type": "contour"
           }
          ],
          "contourcarpet": [
           {
            "colorbar": {
             "outlinewidth": 0,
             "ticks": ""
            },
            "type": "contourcarpet"
           }
          ],
          "heatmap": [
           {
            "colorbar": {
             "outlinewidth": 0,
             "ticks": ""
            },
            "colorscale": [
             [
              0,
              "#0d0887"
             ],
             [
              0.1111111111111111,
              "#46039f"
             ],
             [
              0.2222222222222222,
              "#7201a8"
             ],
             [
              0.3333333333333333,
              "#9c179e"
             ],
             [
              0.4444444444444444,
              "#bd3786"
             ],
             [
              0.5555555555555556,
              "#d8576b"
             ],
             [
              0.6666666666666666,
              "#ed7953"
             ],
             [
              0.7777777777777778,
              "#fb9f3a"
             ],
             [
              0.8888888888888888,
              "#fdca26"
             ],
             [
              1,
              "#f0f921"
             ]
            ],
            "type": "heatmap"
           }
          ],
          "heatmapgl": [
           {
            "colorbar": {
             "outlinewidth": 0,
             "ticks": ""
            },
            "colorscale": [
             [
              0,
              "#0d0887"
             ],
             [
              0.1111111111111111,
              "#46039f"
             ],
             [
              0.2222222222222222,
              "#7201a8"
             ],
             [
              0.3333333333333333,
              "#9c179e"
             ],
             [
              0.4444444444444444,
              "#bd3786"
             ],
             [
              0.5555555555555556,
              "#d8576b"
             ],
             [
              0.6666666666666666,
              "#ed7953"
             ],
             [
              0.7777777777777778,
              "#fb9f3a"
             ],
             [
              0.8888888888888888,
              "#fdca26"
             ],
             [
              1,
              "#f0f921"
             ]
            ],
            "type": "heatmapgl"
           }
          ],
          "histogram": [
           {
            "marker": {
             "pattern": {
              "fillmode": "overlay",
              "size": 10,
              "solidity": 0.2
             }
            },
            "type": "histogram"
           }
          ],
          "histogram2d": [
           {
            "colorbar": {
             "outlinewidth": 0,
             "ticks": ""
            },
            "colorscale": [
             [
              0,
              "#0d0887"
             ],
             [
              0.1111111111111111,
              "#46039f"
             ],
             [
              0.2222222222222222,
              "#7201a8"
             ],
             [
              0.3333333333333333,
              "#9c179e"
             ],
             [
              0.4444444444444444,
              "#bd3786"
             ],
             [
              0.5555555555555556,
              "#d8576b"
             ],
             [
              0.6666666666666666,
              "#ed7953"
             ],
             [
              0.7777777777777778,
              "#fb9f3a"
             ],
             [
              0.8888888888888888,
              "#fdca26"
             ],
             [
              1,
              "#f0f921"
             ]
            ],
            "type": "histogram2d"
           }
          ],
          "histogram2dcontour": [
           {
            "colorbar": {
             "outlinewidth": 0,
             "ticks": ""
            },
            "colorscale": [
             [
              0,
              "#0d0887"
             ],
             [
              0.1111111111111111,
              "#46039f"
             ],
             [
              0.2222222222222222,
              "#7201a8"
             ],
             [
              0.3333333333333333,
              "#9c179e"
             ],
             [
              0.4444444444444444,
              "#bd3786"
             ],
             [
              0.5555555555555556,
              "#d8576b"
             ],
             [
              0.6666666666666666,
              "#ed7953"
             ],
             [
              0.7777777777777778,
              "#fb9f3a"
             ],
             [
              0.8888888888888888,
              "#fdca26"
             ],
             [
              1,
              "#f0f921"
             ]
            ],
            "type": "histogram2dcontour"
           }
          ],
          "mesh3d": [
           {
            "colorbar": {
             "outlinewidth": 0,
             "ticks": ""
            },
            "type": "mesh3d"
           }
          ],
          "parcoords": [
           {
            "line": {
             "colorbar": {
              "outlinewidth": 0,
              "ticks": ""
             }
            },
            "type": "parcoords"
           }
          ],
          "pie": [
           {
            "automargin": true,
            "type": "pie"
           }
          ],
          "scatter": [
           {
            "marker": {
             "colorbar": {
              "outlinewidth": 0,
              "ticks": ""
             }
            },
            "type": "scatter"
           }
          ],
          "scatter3d": [
           {
            "line": {
             "colorbar": {
              "outlinewidth": 0,
              "ticks": ""
             }
            },
            "marker": {
             "colorbar": {
              "outlinewidth": 0,
              "ticks": ""
             }
            },
            "type": "scatter3d"
           }
          ],
          "scattercarpet": [
           {
            "marker": {
             "colorbar": {
              "outlinewidth": 0,
              "ticks": ""
             }
            },
            "type": "scattercarpet"
           }
          ],
          "scattergeo": [
           {
            "marker": {
             "colorbar": {
              "outlinewidth": 0,
              "ticks": ""
             }
            },
            "type": "scattergeo"
           }
          ],
          "scattergl": [
           {
            "marker": {
             "colorbar": {
              "outlinewidth": 0,
              "ticks": ""
             }
            },
            "type": "scattergl"
           }
          ],
          "scattermapbox": [
           {
            "marker": {
             "colorbar": {
              "outlinewidth": 0,
              "ticks": ""
             }
            },
            "type": "scattermapbox"
           }
          ],
          "scatterpolar": [
           {
            "marker": {
             "colorbar": {
              "outlinewidth": 0,
              "ticks": ""
             }
            },
            "type": "scatterpolar"
           }
          ],
          "scatterpolargl": [
           {
            "marker": {
             "colorbar": {
              "outlinewidth": 0,
              "ticks": ""
             }
            },
            "type": "scatterpolargl"
           }
          ],
          "scatterternary": [
           {
            "marker": {
             "colorbar": {
              "outlinewidth": 0,
              "ticks": ""
             }
            },
            "type": "scatterternary"
           }
          ],
          "surface": [
           {
            "colorbar": {
             "outlinewidth": 0,
             "ticks": ""
            },
            "colorscale": [
             [
              0,
              "#0d0887"
             ],
             [
              0.1111111111111111,
              "#46039f"
             ],
             [
              0.2222222222222222,
              "#7201a8"
             ],
             [
              0.3333333333333333,
              "#9c179e"
             ],
             [
              0.4444444444444444,
              "#bd3786"
             ],
             [
              0.5555555555555556,
              "#d8576b"
             ],
             [
              0.6666666666666666,
              "#ed7953"
             ],
             [
              0.7777777777777778,
              "#fb9f3a"
             ],
             [
              0.8888888888888888,
              "#fdca26"
             ],
             [
              1,
              "#f0f921"
             ]
            ],
            "type": "surface"
           }
          ],
          "table": [
           {
            "cells": {
             "fill": {
              "color": "#EBF0F8"
             },
             "line": {
              "color": "white"
             }
            },
            "header": {
             "fill": {
              "color": "#C8D4E3"
             },
             "line": {
              "color": "white"
             }
            },
            "type": "table"
           }
          ]
         },
         "layout": {
          "annotationdefaults": {
           "arrowcolor": "#2a3f5f",
           "arrowhead": 0,
           "arrowwidth": 1
          },
          "autotypenumbers": "strict",
          "coloraxis": {
           "colorbar": {
            "outlinewidth": 0,
            "ticks": ""
           }
          },
          "colorscale": {
           "diverging": [
            [
             0,
             "#8e0152"
            ],
            [
             0.1,
             "#c51b7d"
            ],
            [
             0.2,
             "#de77ae"
            ],
            [
             0.3,
             "#f1b6da"
            ],
            [
             0.4,
             "#fde0ef"
            ],
            [
             0.5,
             "#f7f7f7"
            ],
            [
             0.6,
             "#e6f5d0"
            ],
            [
             0.7,
             "#b8e186"
            ],
            [
             0.8,
             "#7fbc41"
            ],
            [
             0.9,
             "#4d9221"
            ],
            [
             1,
             "#276419"
            ]
           ],
           "sequential": [
            [
             0,
             "#0d0887"
            ],
            [
             0.1111111111111111,
             "#46039f"
            ],
            [
             0.2222222222222222,
             "#7201a8"
            ],
            [
             0.3333333333333333,
             "#9c179e"
            ],
            [
             0.4444444444444444,
             "#bd3786"
            ],
            [
             0.5555555555555556,
             "#d8576b"
            ],
            [
             0.6666666666666666,
             "#ed7953"
            ],
            [
             0.7777777777777778,
             "#fb9f3a"
            ],
            [
             0.8888888888888888,
             "#fdca26"
            ],
            [
             1,
             "#f0f921"
            ]
           ],
           "sequentialminus": [
            [
             0,
             "#0d0887"
            ],
            [
             0.1111111111111111,
             "#46039f"
            ],
            [
             0.2222222222222222,
             "#7201a8"
            ],
            [
             0.3333333333333333,
             "#9c179e"
            ],
            [
             0.4444444444444444,
             "#bd3786"
            ],
            [
             0.5555555555555556,
             "#d8576b"
            ],
            [
             0.6666666666666666,
             "#ed7953"
            ],
            [
             0.7777777777777778,
             "#fb9f3a"
            ],
            [
             0.8888888888888888,
             "#fdca26"
            ],
            [
             1,
             "#f0f921"
            ]
           ]
          },
          "colorway": [
           "#636efa",
           "#EF553B",
           "#00cc96",
           "#ab63fa",
           "#FFA15A",
           "#19d3f3",
           "#FF6692",
           "#B6E880",
           "#FF97FF",
           "#FECB52"
          ],
          "font": {
           "color": "#2a3f5f"
          },
          "geo": {
           "bgcolor": "white",
           "lakecolor": "white",
           "landcolor": "#E5ECF6",
           "showlakes": true,
           "showland": true,
           "subunitcolor": "white"
          },
          "hoverlabel": {
           "align": "left"
          },
          "hovermode": "closest",
          "mapbox": {
           "style": "light"
          },
          "paper_bgcolor": "white",
          "plot_bgcolor": "#E5ECF6",
          "polar": {
           "angularaxis": {
            "gridcolor": "white",
            "linecolor": "white",
            "ticks": ""
           },
           "bgcolor": "#E5ECF6",
           "radialaxis": {
            "gridcolor": "white",
            "linecolor": "white",
            "ticks": ""
           }
          },
          "scene": {
           "xaxis": {
            "backgroundcolor": "#E5ECF6",
            "gridcolor": "white",
            "gridwidth": 2,
            "linecolor": "white",
            "showbackground": true,
            "ticks": "",
            "zerolinecolor": "white"
           },
           "yaxis": {
            "backgroundcolor": "#E5ECF6",
            "gridcolor": "white",
            "gridwidth": 2,
            "linecolor": "white",
            "showbackground": true,
            "ticks": "",
            "zerolinecolor": "white"
           },
           "zaxis": {
            "backgroundcolor": "#E5ECF6",
            "gridcolor": "white",
            "gridwidth": 2,
            "linecolor": "white",
            "showbackground": true,
            "ticks": "",
            "zerolinecolor": "white"
           }
          },
          "shapedefaults": {
           "line": {
            "color": "#2a3f5f"
           }
          },
          "ternary": {
           "aaxis": {
            "gridcolor": "white",
            "linecolor": "white",
            "ticks": ""
           },
           "baxis": {
            "gridcolor": "white",
            "linecolor": "white",
            "ticks": ""
           },
           "bgcolor": "#E5ECF6",
           "caxis": {
            "gridcolor": "white",
            "linecolor": "white",
            "ticks": ""
           }
          },
          "title": {
           "x": 0.05
          },
          "xaxis": {
           "automargin": true,
           "gridcolor": "white",
           "linecolor": "white",
           "ticks": "",
           "title": {
            "standoff": 15
           },
           "zerolinecolor": "white",
           "zerolinewidth": 2
          },
          "yaxis": {
           "automargin": true,
           "gridcolor": "white",
           "linecolor": "white",
           "ticks": "",
           "title": {
            "standoff": 15
           },
           "zerolinecolor": "white",
           "zerolinewidth": 2
          }
         }
        }
       }
      }
     },
     "metadata": {}
    }
   ],
   "source": [
    "import plotly.express as px\n",
    "\n",
    "fig = px.scatter_mapbox(df, lat='lat', lon='lon',size='mag2', mapbox_style=\"carto-positron\")\n",
    "fig.show()\n"
   ]
  },
  {
   "cell_type": "code",
   "execution_count": 32,
   "metadata": {},
   "outputs": [
    {
     "output_type": "execute_result",
     "data": {
      "text/plain": [
       "<matplotlib.axes._subplots.AxesSubplot at 0x7f9ae693c670>"
      ]
     },
     "metadata": {},
     "execution_count": 32
    },
    {
     "output_type": "display_data",
     "data": {
      "text/plain": "<Figure size 432x288 with 1 Axes>",
      "image/svg+xml": "<?xml version=\"1.0\" encoding=\"utf-8\" standalone=\"no\"?>\n<!DOCTYPE svg PUBLIC \"-//W3C//DTD SVG 1.1//EN\"\n  \"http://www.w3.org/Graphics/SVG/1.1/DTD/svg11.dtd\">\n<!-- Created with matplotlib (https://matplotlib.org/) -->\n<svg height=\"248.518125pt\" version=\"1.1\" viewBox=\"0 0 375.2875 248.518125\" width=\"375.2875pt\" xmlns=\"http://www.w3.org/2000/svg\" xmlns:xlink=\"http://www.w3.org/1999/xlink\">\n <defs>\n  <style type=\"text/css\">\n*{stroke-linecap:butt;stroke-linejoin:round;}\n  </style>\n </defs>\n <g id=\"figure_1\">\n  <g id=\"patch_1\">\n   <path d=\"M 0 248.518125 \nL 375.2875 248.518125 \nL 375.2875 0 \nL 0 0 \nz\n\" style=\"fill:none;\"/>\n  </g>\n  <g id=\"axes_1\">\n   <g id=\"patch_2\">\n    <path d=\"M 33.2875 224.64 \nL 368.0875 224.64 \nL 368.0875 7.2 \nL 33.2875 7.2 \nz\n\" style=\"fill:#ffffff;\"/>\n   </g>\n   <g id=\"patch_3\">\n    <path clip-path=\"url(#pf5e5a5e735)\" d=\"M 48.505682 224.64 \nL 78.942045 224.64 \nL 78.942045 199.021149 \nL 48.505682 199.021149 \nz\n\" style=\"fill:#1f77b4;\"/>\n   </g>\n   <g id=\"patch_4\">\n    <path clip-path=\"url(#pf5e5a5e735)\" d=\"M 78.942045 224.64 \nL 109.378409 224.64 \nL 109.378409 53.847658 \nL 78.942045 53.847658 \nz\n\" style=\"fill:#1f77b4;\"/>\n   </g>\n   <g id=\"patch_5\">\n    <path clip-path=\"url(#pf5e5a5e735)\" d=\"M 109.378409 224.64 \nL 139.814773 224.64 \nL 139.814773 17.554286 \nL 109.378409 17.554286 \nz\n\" style=\"fill:#1f77b4;\"/>\n   </g>\n   <g id=\"patch_6\">\n    <path clip-path=\"url(#pf5e5a5e735)\" d=\"M 139.814773 224.64 \nL 170.251136 224.64 \nL 170.251136 90.141031 \nL 139.814773 90.141031 \nz\n\" style=\"fill:#1f77b4;\"/>\n   </g>\n   <g id=\"patch_7\">\n    <path clip-path=\"url(#pf5e5a5e735)\" d=\"M 170.251136 224.64 \nL 200.6875 224.64 \nL 200.6875 171.267393 \nL 170.251136 171.267393 \nz\n\" style=\"fill:#1f77b4;\"/>\n   </g>\n   <g id=\"patch_8\">\n    <path clip-path=\"url(#pf5e5a5e735)\" d=\"M 200.6875 224.64 \nL 231.123864 224.64 \nL 231.123864 211.830574 \nL 200.6875 211.830574 \nz\n\" style=\"fill:#1f77b4;\"/>\n   </g>\n   <g id=\"patch_9\">\n    <path clip-path=\"url(#pf5e5a5e735)\" d=\"M 231.123864 224.64 \nL 261.560227 224.64 \nL 261.560227 184.076819 \nL 231.123864 184.076819 \nz\n\" style=\"fill:#1f77b4;\"/>\n   </g>\n   <g id=\"patch_10\">\n    <path clip-path=\"url(#pf5e5a5e735)\" d=\"M 261.560227 224.64 \nL 291.996591 224.64 \nL 291.996591 177.672106 \nL 261.560227 177.672106 \nz\n\" style=\"fill:#1f77b4;\"/>\n   </g>\n   <g id=\"patch_11\">\n    <path clip-path=\"url(#pf5e5a5e735)\" d=\"M 291.996591 224.64 \nL 322.432955 224.64 \nL 322.432955 222.505096 \nL 291.996591 222.505096 \nz\n\" style=\"fill:#1f77b4;\"/>\n   </g>\n   <g id=\"patch_12\">\n    <path clip-path=\"url(#pf5e5a5e735)\" d=\"M 322.432955 224.64 \nL 352.869318 224.64 \nL 352.869318 222.505096 \nL 322.432955 222.505096 \nz\n\" style=\"fill:#1f77b4;\"/>\n   </g>\n   <g id=\"matplotlib.axis_1\">\n    <g id=\"xtick_1\">\n     <g id=\"line2d_1\">\n      <path clip-path=\"url(#pf5e5a5e735)\" d=\"M 44.39266 224.64 \nL 44.39266 7.2 \n\" style=\"fill:none;stroke:#b0b0b0;stroke-linecap:square;stroke-width:0.8;\"/>\n     </g>\n     <g id=\"line2d_2\">\n      <defs>\n       <path d=\"M 0 0 \nL 0 3.5 \n\" id=\"m2845570f32\" style=\"stroke:#000000;stroke-width:0.8;\"/>\n      </defs>\n      <g>\n       <use style=\"stroke:#000000;stroke-width:0.8;\" x=\"44.39266\" xlink:href=\"#m2845570f32\" y=\"224.64\"/>\n      </g>\n     </g>\n     <g id=\"text_1\">\n      <!-- −1 -->\n      <defs>\n       <path d=\"M 10.59375 35.5 \nL 73.1875 35.5 \nL 73.1875 27.203125 \nL 10.59375 27.203125 \nz\n\" id=\"DejaVuSans-8722\"/>\n       <path d=\"M 12.40625 8.296875 \nL 28.515625 8.296875 \nL 28.515625 63.921875 \nL 10.984375 60.40625 \nL 10.984375 69.390625 \nL 28.421875 72.90625 \nL 38.28125 72.90625 \nL 38.28125 8.296875 \nL 54.390625 8.296875 \nL 54.390625 0 \nL 12.40625 0 \nz\n\" id=\"DejaVuSans-49\"/>\n      </defs>\n      <g transform=\"translate(37.021566 239.238437)scale(0.1 -0.1)\">\n       <use xlink:href=\"#DejaVuSans-8722\"/>\n       <use x=\"83.789062\" xlink:href=\"#DejaVuSans-49\"/>\n      </g>\n     </g>\n    </g>\n    <g id=\"xtick_2\">\n     <g id=\"line2d_3\">\n      <path clip-path=\"url(#pf5e5a5e735)\" d=\"M 85.522881 224.64 \nL 85.522881 7.2 \n\" style=\"fill:none;stroke:#b0b0b0;stroke-linecap:square;stroke-width:0.8;\"/>\n     </g>\n     <g id=\"line2d_4\">\n      <g>\n       <use style=\"stroke:#000000;stroke-width:0.8;\" x=\"85.522881\" xlink:href=\"#m2845570f32\" y=\"224.64\"/>\n      </g>\n     </g>\n     <g id=\"text_2\">\n      <!-- 0 -->\n      <defs>\n       <path d=\"M 31.78125 66.40625 \nQ 24.171875 66.40625 20.328125 58.90625 \nQ 16.5 51.421875 16.5 36.375 \nQ 16.5 21.390625 20.328125 13.890625 \nQ 24.171875 6.390625 31.78125 6.390625 \nQ 39.453125 6.390625 43.28125 13.890625 \nQ 47.125 21.390625 47.125 36.375 \nQ 47.125 51.421875 43.28125 58.90625 \nQ 39.453125 66.40625 31.78125 66.40625 \nz\nM 31.78125 74.21875 \nQ 44.046875 74.21875 50.515625 64.515625 \nQ 56.984375 54.828125 56.984375 36.375 \nQ 56.984375 17.96875 50.515625 8.265625 \nQ 44.046875 -1.421875 31.78125 -1.421875 \nQ 19.53125 -1.421875 13.0625 8.265625 \nQ 6.59375 17.96875 6.59375 36.375 \nQ 6.59375 54.828125 13.0625 64.515625 \nQ 19.53125 74.21875 31.78125 74.21875 \nz\n\" id=\"DejaVuSans-48\"/>\n      </defs>\n      <g transform=\"translate(82.341631 239.238437)scale(0.1 -0.1)\">\n       <use xlink:href=\"#DejaVuSans-48\"/>\n      </g>\n     </g>\n    </g>\n    <g id=\"xtick_3\">\n     <g id=\"line2d_5\">\n      <path clip-path=\"url(#pf5e5a5e735)\" d=\"M 126.653102 224.64 \nL 126.653102 7.2 \n\" style=\"fill:none;stroke:#b0b0b0;stroke-linecap:square;stroke-width:0.8;\"/>\n     </g>\n     <g id=\"line2d_6\">\n      <g>\n       <use style=\"stroke:#000000;stroke-width:0.8;\" x=\"126.653102\" xlink:href=\"#m2845570f32\" y=\"224.64\"/>\n      </g>\n     </g>\n     <g id=\"text_3\">\n      <!-- 1 -->\n      <g transform=\"translate(123.471852 239.238437)scale(0.1 -0.1)\">\n       <use xlink:href=\"#DejaVuSans-49\"/>\n      </g>\n     </g>\n    </g>\n    <g id=\"xtick_4\">\n     <g id=\"line2d_7\">\n      <path clip-path=\"url(#pf5e5a5e735)\" d=\"M 167.783323 224.64 \nL 167.783323 7.2 \n\" style=\"fill:none;stroke:#b0b0b0;stroke-linecap:square;stroke-width:0.8;\"/>\n     </g>\n     <g id=\"line2d_8\">\n      <g>\n       <use style=\"stroke:#000000;stroke-width:0.8;\" x=\"167.783323\" xlink:href=\"#m2845570f32\" y=\"224.64\"/>\n      </g>\n     </g>\n     <g id=\"text_4\">\n      <!-- 2 -->\n      <defs>\n       <path d=\"M 19.1875 8.296875 \nL 53.609375 8.296875 \nL 53.609375 0 \nL 7.328125 0 \nL 7.328125 8.296875 \nQ 12.9375 14.109375 22.625 23.890625 \nQ 32.328125 33.6875 34.8125 36.53125 \nQ 39.546875 41.84375 41.421875 45.53125 \nQ 43.3125 49.21875 43.3125 52.78125 \nQ 43.3125 58.59375 39.234375 62.25 \nQ 35.15625 65.921875 28.609375 65.921875 \nQ 23.96875 65.921875 18.8125 64.3125 \nQ 13.671875 62.703125 7.8125 59.421875 \nL 7.8125 69.390625 \nQ 13.765625 71.78125 18.9375 73 \nQ 24.125 74.21875 28.421875 74.21875 \nQ 39.75 74.21875 46.484375 68.546875 \nQ 53.21875 62.890625 53.21875 53.421875 \nQ 53.21875 48.921875 51.53125 44.890625 \nQ 49.859375 40.875 45.40625 35.40625 \nQ 44.1875 33.984375 37.640625 27.21875 \nQ 31.109375 20.453125 19.1875 8.296875 \nz\n\" id=\"DejaVuSans-50\"/>\n      </defs>\n      <g transform=\"translate(164.602073 239.238437)scale(0.1 -0.1)\">\n       <use xlink:href=\"#DejaVuSans-50\"/>\n      </g>\n     </g>\n    </g>\n    <g id=\"xtick_5\">\n     <g id=\"line2d_9\">\n      <path clip-path=\"url(#pf5e5a5e735)\" d=\"M 208.913544 224.64 \nL 208.913544 7.2 \n\" style=\"fill:none;stroke:#b0b0b0;stroke-linecap:square;stroke-width:0.8;\"/>\n     </g>\n     <g id=\"line2d_10\">\n      <g>\n       <use style=\"stroke:#000000;stroke-width:0.8;\" x=\"208.913544\" xlink:href=\"#m2845570f32\" y=\"224.64\"/>\n      </g>\n     </g>\n     <g id=\"text_5\">\n      <!-- 3 -->\n      <defs>\n       <path d=\"M 40.578125 39.3125 \nQ 47.65625 37.796875 51.625 33 \nQ 55.609375 28.21875 55.609375 21.1875 \nQ 55.609375 10.40625 48.1875 4.484375 \nQ 40.765625 -1.421875 27.09375 -1.421875 \nQ 22.515625 -1.421875 17.65625 -0.515625 \nQ 12.796875 0.390625 7.625 2.203125 \nL 7.625 11.71875 \nQ 11.71875 9.328125 16.59375 8.109375 \nQ 21.484375 6.890625 26.8125 6.890625 \nQ 36.078125 6.890625 40.9375 10.546875 \nQ 45.796875 14.203125 45.796875 21.1875 \nQ 45.796875 27.640625 41.28125 31.265625 \nQ 36.765625 34.90625 28.71875 34.90625 \nL 20.21875 34.90625 \nL 20.21875 43.015625 \nL 29.109375 43.015625 \nQ 36.375 43.015625 40.234375 45.921875 \nQ 44.09375 48.828125 44.09375 54.296875 \nQ 44.09375 59.90625 40.109375 62.90625 \nQ 36.140625 65.921875 28.71875 65.921875 \nQ 24.65625 65.921875 20.015625 65.03125 \nQ 15.375 64.15625 9.8125 62.3125 \nL 9.8125 71.09375 \nQ 15.4375 72.65625 20.34375 73.4375 \nQ 25.25 74.21875 29.59375 74.21875 \nQ 40.828125 74.21875 47.359375 69.109375 \nQ 53.90625 64.015625 53.90625 55.328125 \nQ 53.90625 49.265625 50.4375 45.09375 \nQ 46.96875 40.921875 40.578125 39.3125 \nz\n\" id=\"DejaVuSans-51\"/>\n      </defs>\n      <g transform=\"translate(205.732294 239.238437)scale(0.1 -0.1)\">\n       <use xlink:href=\"#DejaVuSans-51\"/>\n      </g>\n     </g>\n    </g>\n    <g id=\"xtick_6\">\n     <g id=\"line2d_11\">\n      <path clip-path=\"url(#pf5e5a5e735)\" d=\"M 250.043765 224.64 \nL 250.043765 7.2 \n\" style=\"fill:none;stroke:#b0b0b0;stroke-linecap:square;stroke-width:0.8;\"/>\n     </g>\n     <g id=\"line2d_12\">\n      <g>\n       <use style=\"stroke:#000000;stroke-width:0.8;\" x=\"250.043765\" xlink:href=\"#m2845570f32\" y=\"224.64\"/>\n      </g>\n     </g>\n     <g id=\"text_6\">\n      <!-- 4 -->\n      <defs>\n       <path d=\"M 37.796875 64.3125 \nL 12.890625 25.390625 \nL 37.796875 25.390625 \nz\nM 35.203125 72.90625 \nL 47.609375 72.90625 \nL 47.609375 25.390625 \nL 58.015625 25.390625 \nL 58.015625 17.1875 \nL 47.609375 17.1875 \nL 47.609375 0 \nL 37.796875 0 \nL 37.796875 17.1875 \nL 4.890625 17.1875 \nL 4.890625 26.703125 \nz\n\" id=\"DejaVuSans-52\"/>\n      </defs>\n      <g transform=\"translate(246.862515 239.238437)scale(0.1 -0.1)\">\n       <use xlink:href=\"#DejaVuSans-52\"/>\n      </g>\n     </g>\n    </g>\n    <g id=\"xtick_7\">\n     <g id=\"line2d_13\">\n      <path clip-path=\"url(#pf5e5a5e735)\" d=\"M 291.173986 224.64 \nL 291.173986 7.2 \n\" style=\"fill:none;stroke:#b0b0b0;stroke-linecap:square;stroke-width:0.8;\"/>\n     </g>\n     <g id=\"line2d_14\">\n      <g>\n       <use style=\"stroke:#000000;stroke-width:0.8;\" x=\"291.173986\" xlink:href=\"#m2845570f32\" y=\"224.64\"/>\n      </g>\n     </g>\n     <g id=\"text_7\">\n      <!-- 5 -->\n      <defs>\n       <path d=\"M 10.796875 72.90625 \nL 49.515625 72.90625 \nL 49.515625 64.59375 \nL 19.828125 64.59375 \nL 19.828125 46.734375 \nQ 21.96875 47.46875 24.109375 47.828125 \nQ 26.265625 48.1875 28.421875 48.1875 \nQ 40.625 48.1875 47.75 41.5 \nQ 54.890625 34.8125 54.890625 23.390625 \nQ 54.890625 11.625 47.5625 5.09375 \nQ 40.234375 -1.421875 26.90625 -1.421875 \nQ 22.3125 -1.421875 17.546875 -0.640625 \nQ 12.796875 0.140625 7.71875 1.703125 \nL 7.71875 11.625 \nQ 12.109375 9.234375 16.796875 8.0625 \nQ 21.484375 6.890625 26.703125 6.890625 \nQ 35.15625 6.890625 40.078125 11.328125 \nQ 45.015625 15.765625 45.015625 23.390625 \nQ 45.015625 31 40.078125 35.4375 \nQ 35.15625 39.890625 26.703125 39.890625 \nQ 22.75 39.890625 18.8125 39.015625 \nQ 14.890625 38.140625 10.796875 36.28125 \nz\n\" id=\"DejaVuSans-53\"/>\n      </defs>\n      <g transform=\"translate(287.992736 239.238437)scale(0.1 -0.1)\">\n       <use xlink:href=\"#DejaVuSans-53\"/>\n      </g>\n     </g>\n    </g>\n    <g id=\"xtick_8\">\n     <g id=\"line2d_15\">\n      <path clip-path=\"url(#pf5e5a5e735)\" d=\"M 332.304208 224.64 \nL 332.304208 7.2 \n\" style=\"fill:none;stroke:#b0b0b0;stroke-linecap:square;stroke-width:0.8;\"/>\n     </g>\n     <g id=\"line2d_16\">\n      <g>\n       <use style=\"stroke:#000000;stroke-width:0.8;\" x=\"332.304208\" xlink:href=\"#m2845570f32\" y=\"224.64\"/>\n      </g>\n     </g>\n     <g id=\"text_8\">\n      <!-- 6 -->\n      <defs>\n       <path d=\"M 33.015625 40.375 \nQ 26.375 40.375 22.484375 35.828125 \nQ 18.609375 31.296875 18.609375 23.390625 \nQ 18.609375 15.53125 22.484375 10.953125 \nQ 26.375 6.390625 33.015625 6.390625 \nQ 39.65625 6.390625 43.53125 10.953125 \nQ 47.40625 15.53125 47.40625 23.390625 \nQ 47.40625 31.296875 43.53125 35.828125 \nQ 39.65625 40.375 33.015625 40.375 \nz\nM 52.59375 71.296875 \nL 52.59375 62.3125 \nQ 48.875 64.0625 45.09375 64.984375 \nQ 41.3125 65.921875 37.59375 65.921875 \nQ 27.828125 65.921875 22.671875 59.328125 \nQ 17.53125 52.734375 16.796875 39.40625 \nQ 19.671875 43.65625 24.015625 45.921875 \nQ 28.375 48.1875 33.59375 48.1875 \nQ 44.578125 48.1875 50.953125 41.515625 \nQ 57.328125 34.859375 57.328125 23.390625 \nQ 57.328125 12.15625 50.6875 5.359375 \nQ 44.046875 -1.421875 33.015625 -1.421875 \nQ 20.359375 -1.421875 13.671875 8.265625 \nQ 6.984375 17.96875 6.984375 36.375 \nQ 6.984375 53.65625 15.1875 63.9375 \nQ 23.390625 74.21875 37.203125 74.21875 \nQ 40.921875 74.21875 44.703125 73.484375 \nQ 48.484375 72.75 52.59375 71.296875 \nz\n\" id=\"DejaVuSans-54\"/>\n      </defs>\n      <g transform=\"translate(329.122958 239.238437)scale(0.1 -0.1)\">\n       <use xlink:href=\"#DejaVuSans-54\"/>\n      </g>\n     </g>\n    </g>\n   </g>\n   <g id=\"matplotlib.axis_2\">\n    <g id=\"ytick_1\">\n     <g id=\"line2d_17\">\n      <path clip-path=\"url(#pf5e5a5e735)\" d=\"M 33.2875 224.64 \nL 368.0875 224.64 \n\" style=\"fill:none;stroke:#b0b0b0;stroke-linecap:square;stroke-width:0.8;\"/>\n     </g>\n     <g id=\"line2d_18\">\n      <defs>\n       <path d=\"M 0 0 \nL -3.5 0 \n\" id=\"md75796f159\" style=\"stroke:#000000;stroke-width:0.8;\"/>\n      </defs>\n      <g>\n       <use style=\"stroke:#000000;stroke-width:0.8;\" x=\"33.2875\" xlink:href=\"#md75796f159\" y=\"224.64\"/>\n      </g>\n     </g>\n     <g id=\"text_9\">\n      <!-- 0 -->\n      <g transform=\"translate(19.925 228.439219)scale(0.1 -0.1)\">\n       <use xlink:href=\"#DejaVuSans-48\"/>\n      </g>\n     </g>\n    </g>\n    <g id=\"ytick_2\">\n     <g id=\"line2d_19\">\n      <path clip-path=\"url(#pf5e5a5e735)\" d=\"M 33.2875 181.941915 \nL 368.0875 181.941915 \n\" style=\"fill:none;stroke:#b0b0b0;stroke-linecap:square;stroke-width:0.8;\"/>\n     </g>\n     <g id=\"line2d_20\">\n      <g>\n       <use style=\"stroke:#000000;stroke-width:0.8;\" x=\"33.2875\" xlink:href=\"#md75796f159\" y=\"181.941915\"/>\n      </g>\n     </g>\n     <g id=\"text_10\">\n      <!-- 20 -->\n      <g transform=\"translate(13.5625 185.741133)scale(0.1 -0.1)\">\n       <use xlink:href=\"#DejaVuSans-50\"/>\n       <use x=\"63.623047\" xlink:href=\"#DejaVuSans-48\"/>\n      </g>\n     </g>\n    </g>\n    <g id=\"ytick_3\">\n     <g id=\"line2d_21\">\n      <path clip-path=\"url(#pf5e5a5e735)\" d=\"M 33.2875 139.243829 \nL 368.0875 139.243829 \n\" style=\"fill:none;stroke:#b0b0b0;stroke-linecap:square;stroke-width:0.8;\"/>\n     </g>\n     <g id=\"line2d_22\">\n      <g>\n       <use style=\"stroke:#000000;stroke-width:0.8;\" x=\"33.2875\" xlink:href=\"#md75796f159\" y=\"139.243829\"/>\n      </g>\n     </g>\n     <g id=\"text_11\">\n      <!-- 40 -->\n      <g transform=\"translate(13.5625 143.043048)scale(0.1 -0.1)\">\n       <use xlink:href=\"#DejaVuSans-52\"/>\n       <use x=\"63.623047\" xlink:href=\"#DejaVuSans-48\"/>\n      </g>\n     </g>\n    </g>\n    <g id=\"ytick_4\">\n     <g id=\"line2d_23\">\n      <path clip-path=\"url(#pf5e5a5e735)\" d=\"M 33.2875 96.545744 \nL 368.0875 96.545744 \n\" style=\"fill:none;stroke:#b0b0b0;stroke-linecap:square;stroke-width:0.8;\"/>\n     </g>\n     <g id=\"line2d_24\">\n      <g>\n       <use style=\"stroke:#000000;stroke-width:0.8;\" x=\"33.2875\" xlink:href=\"#md75796f159\" y=\"96.545744\"/>\n      </g>\n     </g>\n     <g id=\"text_12\">\n      <!-- 60 -->\n      <g transform=\"translate(13.5625 100.344962)scale(0.1 -0.1)\">\n       <use xlink:href=\"#DejaVuSans-54\"/>\n       <use x=\"63.623047\" xlink:href=\"#DejaVuSans-48\"/>\n      </g>\n     </g>\n    </g>\n    <g id=\"ytick_5\">\n     <g id=\"line2d_25\">\n      <path clip-path=\"url(#pf5e5a5e735)\" d=\"M 33.2875 53.847658 \nL 368.0875 53.847658 \n\" style=\"fill:none;stroke:#b0b0b0;stroke-linecap:square;stroke-width:0.8;\"/>\n     </g>\n     <g id=\"line2d_26\">\n      <g>\n       <use style=\"stroke:#000000;stroke-width:0.8;\" x=\"33.2875\" xlink:href=\"#md75796f159\" y=\"53.847658\"/>\n      </g>\n     </g>\n     <g id=\"text_13\">\n      <!-- 80 -->\n      <defs>\n       <path d=\"M 31.78125 34.625 \nQ 24.75 34.625 20.71875 30.859375 \nQ 16.703125 27.09375 16.703125 20.515625 \nQ 16.703125 13.921875 20.71875 10.15625 \nQ 24.75 6.390625 31.78125 6.390625 \nQ 38.8125 6.390625 42.859375 10.171875 \nQ 46.921875 13.96875 46.921875 20.515625 \nQ 46.921875 27.09375 42.890625 30.859375 \nQ 38.875 34.625 31.78125 34.625 \nz\nM 21.921875 38.8125 \nQ 15.578125 40.375 12.03125 44.71875 \nQ 8.5 49.078125 8.5 55.328125 \nQ 8.5 64.0625 14.71875 69.140625 \nQ 20.953125 74.21875 31.78125 74.21875 \nQ 42.671875 74.21875 48.875 69.140625 \nQ 55.078125 64.0625 55.078125 55.328125 \nQ 55.078125 49.078125 51.53125 44.71875 \nQ 48 40.375 41.703125 38.8125 \nQ 48.828125 37.15625 52.796875 32.3125 \nQ 56.78125 27.484375 56.78125 20.515625 \nQ 56.78125 9.90625 50.3125 4.234375 \nQ 43.84375 -1.421875 31.78125 -1.421875 \nQ 19.734375 -1.421875 13.25 4.234375 \nQ 6.78125 9.90625 6.78125 20.515625 \nQ 6.78125 27.484375 10.78125 32.3125 \nQ 14.796875 37.15625 21.921875 38.8125 \nz\nM 18.3125 54.390625 \nQ 18.3125 48.734375 21.84375 45.5625 \nQ 25.390625 42.390625 31.78125 42.390625 \nQ 38.140625 42.390625 41.71875 45.5625 \nQ 45.3125 48.734375 45.3125 54.390625 \nQ 45.3125 60.0625 41.71875 63.234375 \nQ 38.140625 66.40625 31.78125 66.40625 \nQ 25.390625 66.40625 21.84375 63.234375 \nQ 18.3125 60.0625 18.3125 54.390625 \nz\n\" id=\"DejaVuSans-56\"/>\n      </defs>\n      <g transform=\"translate(13.5625 57.646877)scale(0.1 -0.1)\">\n       <use xlink:href=\"#DejaVuSans-56\"/>\n       <use x=\"63.623047\" xlink:href=\"#DejaVuSans-48\"/>\n      </g>\n     </g>\n    </g>\n    <g id=\"ytick_6\">\n     <g id=\"line2d_27\">\n      <path clip-path=\"url(#pf5e5a5e735)\" d=\"M 33.2875 11.149573 \nL 368.0875 11.149573 \n\" style=\"fill:none;stroke:#b0b0b0;stroke-linecap:square;stroke-width:0.8;\"/>\n     </g>\n     <g id=\"line2d_28\">\n      <g>\n       <use style=\"stroke:#000000;stroke-width:0.8;\" x=\"33.2875\" xlink:href=\"#md75796f159\" y=\"11.149573\"/>\n      </g>\n     </g>\n     <g id=\"text_14\">\n      <!-- 100 -->\n      <g transform=\"translate(7.2 14.948792)scale(0.1 -0.1)\">\n       <use xlink:href=\"#DejaVuSans-49\"/>\n       <use x=\"63.623047\" xlink:href=\"#DejaVuSans-48\"/>\n       <use x=\"127.246094\" xlink:href=\"#DejaVuSans-48\"/>\n      </g>\n     </g>\n    </g>\n   </g>\n   <g id=\"patch_13\">\n    <path d=\"M 33.2875 224.64 \nL 33.2875 7.2 \n\" style=\"fill:none;stroke:#000000;stroke-linecap:square;stroke-linejoin:miter;stroke-width:0.8;\"/>\n   </g>\n   <g id=\"patch_14\">\n    <path d=\"M 368.0875 224.64 \nL 368.0875 7.2 \n\" style=\"fill:none;stroke:#000000;stroke-linecap:square;stroke-linejoin:miter;stroke-width:0.8;\"/>\n   </g>\n   <g id=\"patch_15\">\n    <path d=\"M 33.2875 224.64 \nL 368.0875 224.64 \n\" style=\"fill:none;stroke:#000000;stroke-linecap:square;stroke-linejoin:miter;stroke-width:0.8;\"/>\n   </g>\n   <g id=\"patch_16\">\n    <path d=\"M 33.2875 7.2 \nL 368.0875 7.2 \n\" style=\"fill:none;stroke:#000000;stroke-linecap:square;stroke-linejoin:miter;stroke-width:0.8;\"/>\n   </g>\n  </g>\n </g>\n <defs>\n  <clipPath id=\"pf5e5a5e735\">\n   <rect height=\"217.44\" width=\"334.8\" x=\"33.2875\" y=\"7.2\"/>\n  </clipPath>\n </defs>\n</svg>\n",
      "image/png": "[encoded data removed]"
     },
     "metadata": {
      "needs_background": "light"
     }
    }
   ],
   "source": [
    "df.mag.hist()"
   ]
  },
  {
   "cell_type": "code",
   "execution_count": 35,
   "metadata": {},
   "outputs": [],
   "source": [
    "df['mag2'] = df.mag.apply(lambda row: abs(row))"
   ]
  },
  {
   "cell_type": "code",
   "execution_count": 33,
   "metadata": {},
   "outputs": [
    {
     "output_type": "execute_result",
     "data": {
      "text/plain": [
       "0      1.29\n",
       "1      1.10\n",
       "2      1.20\n",
       "3      1.40\n",
       "4      4.00\n",
       "       ... \n",
       "321    1.20\n",
       "322    0.57\n",
       "323    2.20\n",
       "324    4.50\n",
       "325    5.10\n",
       "Name: mag, Length: 326, dtype: float64"
      ]
     },
     "metadata": {},
     "execution_count": 33
    }
   ],
   "source": [
    "df.mag.apply(lambda row: abs(row))"
   ]
  }
 ]
}